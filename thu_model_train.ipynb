{
 "cells": [
  {
   "cell_type": "code",
   "execution_count": 2,
   "metadata": {},
   "outputs": [],
   "source": [
    "import pandas as pd\n",
    "import numpy as np\n",
    "import tempfile\n",
    "import tensorflow as tf\n",
    "import pandas as pd"
   ]
  },
  {
   "cell_type": "code",
   "execution_count": 3,
   "metadata": {},
   "outputs": [],
   "source": [
    "sample_train_pickle = pd.read_pickle('../data_20220831/sample_train_processed_processed.pkl')"
   ]
  },
  {
   "cell_type": "code",
   "execution_count": 74,
   "metadata": {},
   "outputs": [],
   "source": [
    "sample_test_pickle = pd.read_pickle('../data_20220831/sample_test_processed_processed.pkl')"
   ]
  },
  {
   "cell_type": "code",
   "execution_count": 4,
   "metadata": {},
   "outputs": [
    {
     "data": {
      "text/plain": [
       "(58504, 25)"
      ]
     },
     "execution_count": 4,
     "metadata": {},
     "output_type": "execute_result"
    }
   ],
   "source": [
    "sample_train_pickle.shape"
   ]
  },
  {
   "cell_type": "code",
   "execution_count": 75,
   "metadata": {},
   "outputs": [
    {
     "data": {
      "text/plain": [
       "(14627, 25)"
      ]
     },
     "execution_count": 75,
     "metadata": {},
     "output_type": "execute_result"
    }
   ],
   "source": [
    "sample_test_pickle.shape"
   ]
  },
  {
   "cell_type": "code",
   "execution_count": 5,
   "metadata": {},
   "outputs": [
    {
     "name": "stdout",
     "output_type": "stream",
     "text": [
      "<class 'pandas.core.frame.DataFrame'>\n",
      "RangeIndex: 58504 entries, 0 to 58503\n",
      "Data columns (total 25 columns):\n",
      " #   Column                         Non-Null Count  Dtype  \n",
      "---  ------                         --------------  -----  \n",
      " 0   cv_id                          58504 non-null  object \n",
      " 1   jd_id                          58504 non-null  object \n",
      " 2   model_label                    58504 non-null  int64  \n",
      " 3   age                            58504 non-null  float64\n",
      " 4   degree_index_cv                58504 non-null  int64  \n",
      " 5   degree_index_jd                58504 non-null  int64  \n",
      " 6   degree_match_cvjd              58504 non-null  int64  \n",
      " 7   description_tfidf_pca          58504 non-null  object \n",
      " 8   equal_job                      58504 non-null  int64  \n",
      " 9   gender_index_cv                58504 non-null  int64  \n",
      " 10  job_intentstatus_cv            58504 non-null  int64  \n",
      " 11  keyU                           58504 non-null  int64  \n",
      " 12  kills_tfidf_pca                58504 non-null  object \n",
      " 13  location_intersect_cvjd        58504 non-null  int64  \n",
      " 14  max_annual_salary              58504 non-null  float64\n",
      " 15  min_annual_salary              58504 non-null  float64\n",
      " 16  parsed_desiredSalary           58504 non-null  float64\n",
      " 17  position_tfidf_pca             58504 non-null  object \n",
      " 18  recruit_number                 58504 non-null  int64  \n",
      " 19  requirement_tfidf_pca          58504 non-null  object \n",
      " 20  school_intersect_cvjd          58504 non-null  int64  \n",
      " 21  title_category_tags_tfidf_pca  58504 non-null  object \n",
      " 22  workYear                       58504 non-null  float64\n",
      " 23  work_duration_mean             58504 non-null  float64\n",
      " 24  workyear_match_cvjd            58504 non-null  int64  \n",
      "dtypes: float64(6), int64(12), object(7)\n",
      "memory usage: 11.2+ MB\n"
     ]
    }
   ],
   "source": [
    "sample_train_pickle.info()"
   ]
  },
  {
   "cell_type": "code",
   "execution_count": 6,
   "metadata": {},
   "outputs": [
    {
     "data": {
      "text/plain": [
       "<absl.flags._flagvalues.FlagHolder at 0x7f8008c916a0>"
      ]
     },
     "execution_count": 6,
     "metadata": {},
     "output_type": "execute_result"
    }
   ],
   "source": [
    "flags = tf.app.flags\n",
    "FLAGS = flags.FLAGS\n",
    "tf.app.flags.DEFINE_string('f','','kernel')\n",
    "\n",
    "flags.DEFINE_string(\"model_dir\", \"../modelV0907\", \"Base directory for output models.\") #模型输出路径\n",
    "flags.DEFINE_integer(\"train_steps\", 100, \"Number of training steps.\") \n"
   ]
  },
  {
   "cell_type": "code",
   "execution_count": 10,
   "metadata": {},
   "outputs": [],
   "source": [
    "COLUMNS = ['age', 'recruit_number', 'workYear', 'min_annual_salary', 'max_annual_salary', \n",
    "            'degree_index_cv', 'degree_index_jd', 'gender_index_cv', 'job_intentstatus_cv',\n",
    "            'description_tfidf_pca', 'position_tfidf_pca', 'requirement_tfidf_pca', 'kills_tfidf_pca', 'title_category_tags_tfidf_pca',\n",
    "            'work_duration_mean', 'equal_job', 'parsed_desiredSalary', 'school_intersect_cvjd', 'location_intersect_cvjd',\n",
    "            'degree_match_cvjd', 'workyear_match_cvjd', 'keyU']\n",
    "\n",
    "LABEL_COLUMN = \"model_label\"\n",
    "\n",
    "# 离散特征\n",
    "CATEGORICAL_COLUMNS = ['degree_index_cv', 'degree_index_jd', 'gender_index_cv', 'job_intentstatus_cv', 'school_intersect_cvjd',\n",
    "                        'location_intersect_cvjd', 'degree_match_cvjd', 'workyear_match_cvjd', 'keyU']\n",
    "\n",
    "# 文本向量特征\n",
    "ARRAY_COLUMNS = ['description_tfidf_pca', 'position_tfidf_pca', 'requirement_tfidf_pca', 'kills_tfidf_pca', 'title_category_tags_tfidf_pca']\n",
    "\n",
    "# 连续特征\n",
    "CONTINUOUS_COLUMNS = ['age', 'recruit_number', 'workYear', 'min_annual_salary', 'max_annual_salary', \n",
    "                    'work_duration_mean', 'equal_job', 'parsed_desiredSalary', ]\n"
   ]
  },
  {
   "cell_type": "code",
   "execution_count": 12,
   "metadata": {},
   "outputs": [
    {
     "name": "stdout",
     "output_type": "stream",
     "text": [
      "model dir = ../modelV0907\n"
     ]
    }
   ],
   "source": [
    "model_dir = tempfile.mkdtemp() if not '../modelV0907' else '../modelV0907'\n",
    "print(\"model dir = %s\" % model_dir)"
   ]
  },
  {
   "cell_type": "code",
   "execution_count": 13,
   "metadata": {},
   "outputs": [],
   "source": [
    "def col2arr(data,col):\n",
    "    slist = []\n",
    "    for i in tuple(data.index):\n",
    "        slist.append(np.array(data.loc[i,col]))\n",
    "    return np.array(slist)\n",
    "\n",
    "def input_fn(df):\n",
    "    continuous_cols = {k: tf.constant(df[k].values) for k in CONTINUOUS_COLUMNS}\n",
    "    array_cols = {k: tf.constant(col2arr(df,k)) for k in ARRAY_COLUMNS}\n",
    "    categorical_cols = {k: tf.SparseTensor(indices=[[i,0] for i in range( df[k].size)], values = df[k].values, dense_shape=[df[k].size,1]) for k in CATEGORICAL_COLUMNS}\n",
    "    \n",
    "    feature_cols = dict(continuous_cols)\n",
    "    feature_cols.update(categorical_cols)\n",
    "    feature_cols.update(array_cols)\n",
    "    \n",
    "    label = tf.constant(df[LABEL_COLUMN].values)\n",
    "\n",
    "    return feature_cols, label"
   ]
  },
  {
   "cell_type": "code",
   "execution_count": 14,
   "metadata": {},
   "outputs": [],
   "source": [
    "CATEGORICAL_COLUMNS = ['degree_index_cv', 'degree_index_jd', 'gender_index_cv', 'job_intentstatus_cv', 'school_intersect_cvjd',\n",
    "                        'location_intersect_cvjd', 'degree_match_cvjd', 'workyear_match_cvjd', 'keyU']\n",
    "\n",
    "# 文本向量特征\n",
    "ARRAY_COLUMNS = ['description_tfidf_pca', 'position_tfidf_pca', 'requirement_tfidf_pca', 'kills_tfidf_pca', 'title_category_tags_tfidf_pca']\n",
    "\n",
    "# 连续特征\n",
    "CONTINUOUS_COLUMNS = ['age', 'recruit_number', 'workYear', 'min_annual_salary', 'max_annual_salary', \n",
    "                    'work_duration_mean', 'equal_job', 'parsed_desiredSalary', ]"
   ]
  },
  {
   "cell_type": "code",
   "execution_count": null,
   "metadata": {},
   "outputs": [],
   "source": [
    "'''\n",
    "tf.feature_column.categorical_column_with_identity(\n",
    "    key, num_buckets, default_value=None\n",
    ")\n",
    "Use this when your inputs are integers in the range [0, num_buckets), \n",
    "and you want to use the input value itself as the categorical ID. \n",
    "Values outside this range will result in default_value if specified, otherwise it will fail.\n",
    "'''"
   ]
  },
  {
   "cell_type": "code",
   "execution_count": 50,
   "metadata": {},
   "outputs": [
    {
     "data": {
      "text/plain": [
       "0    32766\n",
       "1    25738\n",
       "Name: workyear_match_cvjd, dtype: int64"
      ]
     },
     "execution_count": 50,
     "metadata": {},
     "output_type": "execute_result"
    }
   ],
   "source": [
    "# cv的特征一开始是3-10，后来减去了3，变成0-7\n",
    "# jd的学历特征也减去了3\n",
    "sample_train_pickle['workyear_match_cvjd'].value_counts()"
   ]
  },
  {
   "cell_type": "code",
   "execution_count": 35,
   "metadata": {},
   "outputs": [
    {
     "data": {
      "text/plain": [
       "30"
      ]
     },
     "execution_count": 35,
     "metadata": {},
     "output_type": "execute_result"
    }
   ],
   "source": [
    "sample_train_pickle['title_category_tags_tfidf_pca'][0].__len__()"
   ]
  },
  {
   "cell_type": "code",
   "execution_count": 55,
   "metadata": {},
   "outputs": [],
   "source": [
    "# 将类别特征变成onehot，default_value需要注意\n",
    "degree_index_cv = tf.feature_column.categorical_column_with_identity('degree_index_cv', num_buckets=8, default_value=0)\n",
    "degree_index_jd = tf.feature_column.categorical_column_with_identity('degree_index_jd', num_buckets=8, default_value=0)\n",
    "gender_index_cv = tf.feature_column.categorical_column_with_identity('gender_index_cv', num_buckets=3, default_value=0)\n",
    "job_intentstatus_cv = tf.feature_column.categorical_column_with_identity('job_intentstatus_cv', num_buckets=4, default_value=0)\n",
    "school_intersect_cvjd = tf.feature_column.categorical_column_with_identity('school_intersect_cvjd', num_buckets=2, default_value=0)\n",
    "location_intersect_cvjd = tf.feature_column.categorical_column_with_identity('location_intersect_cvjd', num_buckets=2, default_value=0)\n",
    "degree_match_cvjd = tf.feature_column.categorical_column_with_identity('degree_match_cvjd', num_buckets=2, default_value=0)\n",
    "workyear_match_cvjd = tf.feature_column.categorical_column_with_identity('workyear_match_cvjd', num_buckets=2, default_value=0)\n",
    "keyU = tf.feature_column.categorical_column_with_identity('keyU', num_buckets=2, default_value=0)\n",
    "\n",
    "# 多维数值特征输入\n",
    "description_tfidf_pca = tf.feature_column.numeric_column(key=\"description_tfidf_pca\",shape=70)\n",
    "position_tfidf_pca = tf.feature_column.numeric_column(key=\"position_tfidf_pca\",shape=40)\n",
    "requirement_tfidf_pca = tf.feature_column.numeric_column(key=\"requirement_tfidf_pca\",shape=70)\n",
    "kills_tfidf_pca = tf.feature_column.numeric_column(key=\"kills_tfidf_pca\",shape=30)\n",
    "title_category_tags_tfidf_pca = tf.feature_column.numeric_column(key=\"title_category_tags_tfidf_pca\",shape=30)\n",
    "\n",
    "# 一维数值特征，还没归一化\n",
    "age = tf.feature_column.numeric_column(\"age\", default_value=0.0)\n",
    "recruit_number = tf.feature_column.numeric_column(\"recruit_number\", default_value=0.0)\n",
    "workYear = tf.feature_column.numeric_column(\"workYear\", default_value=0.0)\n",
    "min_annual_salary = tf.feature_column.numeric_column(\"min_annual_salary\", default_value=0.0)\n",
    "max_annual_salary = tf.feature_column.numeric_column(\"max_annual_salary\", default_value=0.0)\n",
    "work_duration_mean = tf.feature_column.numeric_column(\"work_duration_mean\", default_value=0.0)\n",
    "equal_job = tf.feature_column.numeric_column(\"equal_job\", default_value=0.0)\n",
    "parsed_desiredSalary = tf.feature_column.numeric_column(\"parsed_desiredSalary\", default_value=0.0)\n",
    "\n",
    "# 连续特征分桶onehot\n",
    "# 连续特征离散化后只会出现在wide侧。\n",
    "# 思考下：1.哪些特征可以放入wide侧 2.桶的范围\n",
    "age_buckets = tf.feature_column.bucketized_column(age, boundaries= [18, 25, 30, 35, 40, 45])\n",
    "recruit_number_buckets = tf.feature_column.bucketized_column(recruit_number, boundaries= [5, 10, 15])\n",
    "workYear_buckets = tf.feature_column.bucketized_column(workYear, boundaries= [3, 5, 10, 15, 20])\n",
    "work_duration_mean_buckets = tf.feature_column.bucketized_column(work_duration_mean, boundaries= [365, 547, 730, 1095, 1460])\n",
    "equal_job_buckets = tf.feature_column.bucketized_column(equal_job, boundaries= [3, 5, 7, 10])\n",
    "# 还有3个salary特征没有处理\n"
   ]
  },
  {
   "cell_type": "code",
   "execution_count": 59,
   "metadata": {},
   "outputs": [],
   "source": [
    "# 类别特征onehot\n",
    "# 连续数值特征分桶离散化\n",
    "# 交叉特征\n",
    "wide_columns = [\n",
    "                degree_index_cv, degree_index_jd, gender_index_cv, job_intentstatus_cv, \n",
    "                school_intersect_cvjd, location_intersect_cvjd, degree_match_cvjd, workyear_match_cvjd, keyU,\n",
    "                age_buckets, recruit_number_buckets, workYear_buckets, work_duration_mean_buckets, equal_job_buckets,\n",
    "                tf.feature_column.crossed_column([degree_index_cv, degree_index_jd], hash_bucket_size=int(1e2)),\n",
    "                tf.feature_column.crossed_column([degree_index_cv, workYear_buckets], hash_bucket_size=int(1e2)),\n",
    "                tf.feature_column.crossed_column([degree_index_cv, gender_index_cv, age_buckets], hash_bucket_size=int(1e2)),\n",
    "                tf.feature_column.crossed_column([school_intersect_cvjd, degree_match_cvjd, workyear_match_cvjd, keyU], hash_bucket_size=int(1e2)),\n",
    "                ]\n",
    "\n",
    "# 文本向量特征\n",
    "# 类别特征onehot之后接入embedding层\n",
    "# 连续的数值特征没有接入\n",
    "deep_columns = [\n",
    "                description_tfidf_pca, position_tfidf_pca, requirement_tfidf_pca, kills_tfidf_pca, title_category_tags_tfidf_pca,\n",
    "                tf.feature_column.embedding_column(degree_index_cv, 8),\n",
    "                tf.feature_column.embedding_column(degree_index_jd, 8),\n",
    "                tf.feature_column.embedding_column(gender_index_cv, 8),\n",
    "                tf.feature_column.embedding_column(school_intersect_cvjd, 8),\n",
    "                tf.feature_column.embedding_column(location_intersect_cvjd, 8),\n",
    "                tf.feature_column.embedding_column(degree_match_cvjd, 8),\n",
    "                tf.feature_column.embedding_column(workyear_match_cvjd, 8),\n",
    "                tf.feature_column.embedding_column(keyU, 8),\n",
    "                ]"
   ]
  },
  {
   "cell_type": "code",
   "execution_count": 47,
   "metadata": {},
   "outputs": [
    {
     "name": "stdout",
     "output_type": "stream",
     "text": [
      "%10的分位点是：425.33333333333326\n",
      "%20的分位点是：547.0\n",
      "%30的分位点是：633.2\n",
      "%40的分位点是：720.3333333333335\n",
      "%50的分位点是：783.5\n",
      "%60的分位点是：852.0\n",
      "%70的分位点是：966.75\n",
      "%80的分位点是：1116.0\n",
      "%90的分位点是：1393.9\n",
      "%95.0的分位点是：1674.5833333333335\n",
      "%96.0的分位点是：1766.75\n",
      "%97.0的分位点是：1886.5\n",
      "%98.0的分位点是：2084.25\n",
      "%99.0的分位点是：2466.0\n",
      "%100的分位点是：3624.0\n"
     ]
    }
   ],
   "source": [
    "# 黄金数据集的分位点\n",
    "percent_list = list(range(1, 10)) \n",
    "percent_list.extend([9.5, 9.6, 9.7, 9.8, 9.9, 10])\n",
    "percent_list = map(lambda x: x*10, percent_list)\n",
    "\n",
    "# 计算分位点\n",
    "for percent in percent_list:\n",
    "    num = np.percentile(sample_train_pickle['work_duration_mean'], percent, interpolation='midpoint')\n",
    "    print(\"%{}的分位点是：{}\".format(percent, num))"
   ]
  },
  {
   "cell_type": "code",
   "execution_count": 65,
   "metadata": {},
   "outputs": [
    {
     "name": "stdout",
     "output_type": "stream",
     "text": [
      "INFO:tensorflow:Using config: {'_model_dir': '../modelV0907', '_tf_random_seed': None, '_save_summary_steps': 100, '_save_checkpoints_steps': 50, '_save_checkpoints_secs': None, '_session_config': allow_soft_placement: true\n",
      "graph_options {\n",
      "  rewrite_options {\n",
      "    meta_optimizer_iterations: ONE\n",
      "  }\n",
      "}\n",
      ", '_keep_checkpoint_max': 0, '_keep_checkpoint_every_n_hours': 10000, '_log_step_count_steps': 100, '_train_distribute': None, '_device_fn': None, '_protocol': None, '_eval_distribute': None, '_experimental_distribute': None, '_experimental_max_worker_delay_secs': None, '_session_creation_timeout_secs': 7200, '_service': None, '_cluster_spec': <tensorflow.python.training.server_lib.ClusterSpec object at 0x7f7ee42e6128>, '_task_type': 'worker', '_task_id': 0, '_global_id_in_cluster': 0, '_master': '', '_evaluation_master': '', '_is_chief': True, '_num_ps_replicas': 0, '_num_worker_replicas': 1}\n"
     ]
    }
   ],
   "source": [
    "est_config = tf.estimator.RunConfig(\n",
    "    save_checkpoints_steps = 50,    # Save checkpoints every this many steps. \n",
    "    keep_checkpoint_max = 0,       # If None or 0, all checkpoint files are kept. \n",
    ")\n",
    "\n",
    "\n",
    "m = tf.estimator.DNNLinearCombinedClassifier(model_dir=model_dir, \n",
    "                                            linear_feature_columns=wide_columns, \n",
    "                                            dnn_feature_columns = deep_columns, \n",
    "                                            dnn_hidden_units=[200, 100, 30, 10],\n",
    "                                            config=est_config)"
   ]
  },
  {
   "cell_type": "code",
   "execution_count": 66,
   "metadata": {},
   "outputs": [
    {
     "name": "stdout",
     "output_type": "stream",
     "text": [
      "INFO:tensorflow:Calling model_fn.\n",
      "INFO:tensorflow:Done calling model_fn.\n",
      "INFO:tensorflow:Create CheckpointSaverHook.\n",
      "INFO:tensorflow:Graph was finalized.\n",
      "INFO:tensorflow:Running local_init_op.\n",
      "INFO:tensorflow:Done running local_init_op.\n",
      "INFO:tensorflow:Saving checkpoints for 0 into ../modelV0907/model.ckpt.\n",
      "INFO:tensorflow:../modelV0907/model.ckpt-0 is not in all_model_checkpoint_paths. Manually adding it.\n",
      "INFO:tensorflow:loss = 40720.39, step = 1\n",
      "INFO:tensorflow:Saving checkpoints for 50 into ../modelV0907/model.ckpt.\n",
      "INFO:tensorflow:../modelV0907/model.ckpt-50 is not in all_model_checkpoint_paths. Manually adding it.\n",
      "INFO:tensorflow:Saving checkpoints for 100 into ../modelV0907/model.ckpt.\n",
      "INFO:tensorflow:../modelV0907/model.ckpt-100 is not in all_model_checkpoint_paths. Manually adding it.\n",
      "INFO:tensorflow:global_step/sec: 2.49662\n",
      "INFO:tensorflow:loss = 34003.176, step = 101 (40.055 sec)\n",
      "INFO:tensorflow:Saving checkpoints for 150 into ../modelV0907/model.ckpt.\n",
      "INFO:tensorflow:../modelV0907/model.ckpt-150 is not in all_model_checkpoint_paths. Manually adding it.\n",
      "INFO:tensorflow:Saving checkpoints for 200 into ../modelV0907/model.ckpt.\n",
      "INFO:tensorflow:../modelV0907/model.ckpt-200 is not in all_model_checkpoint_paths. Manually adding it.\n",
      "INFO:tensorflow:global_step/sec: 2.96127\n",
      "INFO:tensorflow:loss = 32658.387, step = 201 (33.771 sec)\n",
      "INFO:tensorflow:Saving checkpoints for 250 into ../modelV0907/model.ckpt.\n",
      "INFO:tensorflow:../modelV0907/model.ckpt-250 is not in all_model_checkpoint_paths. Manually adding it.\n",
      "INFO:tensorflow:Saving checkpoints for 300 into ../modelV0907/model.ckpt.\n",
      "INFO:tensorflow:../modelV0907/model.ckpt-300 is not in all_model_checkpoint_paths. Manually adding it.\n",
      "INFO:tensorflow:global_step/sec: 2.93904\n",
      "INFO:tensorflow:loss = 31648.87, step = 301 (34.025 sec)\n",
      "INFO:tensorflow:Saving checkpoints for 350 into ../modelV0907/model.ckpt.\n",
      "INFO:tensorflow:../modelV0907/model.ckpt-350 is not in all_model_checkpoint_paths. Manually adding it.\n",
      "INFO:tensorflow:Saving checkpoints for 400 into ../modelV0907/model.ckpt.\n",
      "INFO:tensorflow:../modelV0907/model.ckpt-400 is not in all_model_checkpoint_paths. Manually adding it.\n",
      "INFO:tensorflow:global_step/sec: 2.77119\n",
      "INFO:tensorflow:loss = 30705.395, step = 401 (36.084 sec)\n",
      "INFO:tensorflow:Saving checkpoints for 450 into ../modelV0907/model.ckpt.\n",
      "INFO:tensorflow:../modelV0907/model.ckpt-450 is not in all_model_checkpoint_paths. Manually adding it.\n",
      "INFO:tensorflow:Saving checkpoints for 500 into ../modelV0907/model.ckpt.\n",
      "INFO:tensorflow:../modelV0907/model.ckpt-500 is not in all_model_checkpoint_paths. Manually adding it.\n",
      "INFO:tensorflow:global_step/sec: 2.95276\n",
      "INFO:tensorflow:loss = 29828.691, step = 501 (33.867 sec)\n",
      "INFO:tensorflow:Saving checkpoints for 550 into ../modelV0907/model.ckpt.\n",
      "INFO:tensorflow:../modelV0907/model.ckpt-550 is not in all_model_checkpoint_paths. Manually adding it.\n",
      "INFO:tensorflow:Saving checkpoints for 600 into ../modelV0907/model.ckpt.\n",
      "INFO:tensorflow:../modelV0907/model.ckpt-600 is not in all_model_checkpoint_paths. Manually adding it.\n",
      "INFO:tensorflow:global_step/sec: 2.89742\n",
      "INFO:tensorflow:loss = 29022.709, step = 601 (34.514 sec)\n",
      "INFO:tensorflow:Saving checkpoints for 650 into ../modelV0907/model.ckpt.\n",
      "INFO:tensorflow:../modelV0907/model.ckpt-650 is not in all_model_checkpoint_paths. Manually adding it.\n",
      "INFO:tensorflow:Saving checkpoints for 700 into ../modelV0907/model.ckpt.\n",
      "INFO:tensorflow:../modelV0907/model.ckpt-700 is not in all_model_checkpoint_paths. Manually adding it.\n",
      "INFO:tensorflow:global_step/sec: 2.91375\n",
      "INFO:tensorflow:loss = 28271.357, step = 701 (34.320 sec)\n",
      "INFO:tensorflow:Saving checkpoints for 750 into ../modelV0907/model.ckpt.\n",
      "INFO:tensorflow:../modelV0907/model.ckpt-750 is not in all_model_checkpoint_paths. Manually adding it.\n",
      "INFO:tensorflow:Saving checkpoints for 800 into ../modelV0907/model.ckpt.\n",
      "INFO:tensorflow:../modelV0907/model.ckpt-800 is not in all_model_checkpoint_paths. Manually adding it.\n",
      "INFO:tensorflow:global_step/sec: 3.05349\n",
      "INFO:tensorflow:loss = 27581.666, step = 801 (32.751 sec)\n",
      "INFO:tensorflow:Saving checkpoints for 850 into ../modelV0907/model.ckpt.\n",
      "INFO:tensorflow:../modelV0907/model.ckpt-850 is not in all_model_checkpoint_paths. Manually adding it.\n",
      "INFO:tensorflow:Saving checkpoints for 900 into ../modelV0907/model.ckpt.\n",
      "INFO:tensorflow:../modelV0907/model.ckpt-900 is not in all_model_checkpoint_paths. Manually adding it.\n",
      "INFO:tensorflow:global_step/sec: 2.96918\n",
      "INFO:tensorflow:loss = 26926.96, step = 901 (33.678 sec)\n",
      "INFO:tensorflow:Saving checkpoints for 950 into ../modelV0907/model.ckpt.\n",
      "INFO:tensorflow:../modelV0907/model.ckpt-950 is not in all_model_checkpoint_paths. Manually adding it.\n",
      "INFO:tensorflow:Saving checkpoints for 1000 into ../modelV0907/model.ckpt.\n",
      "INFO:tensorflow:../modelV0907/model.ckpt-1000 is not in all_model_checkpoint_paths. Manually adding it.\n",
      "INFO:tensorflow:Loss for final step: 26329.648.\n"
     ]
    },
    {
     "data": {
      "text/plain": [
       "<tensorflow_estimator.python.estimator.canned.dnn_linear_combined.DNNLinearCombinedClassifier at 0x7f7f43630cc0>"
      ]
     },
     "execution_count": 66,
     "metadata": {},
     "output_type": "execute_result"
    }
   ],
   "source": [
    "m.train(input_fn=lambda: input_fn(sample_train_pickle), steps=1000)"
   ]
  },
  {
   "cell_type": "code",
   "execution_count": 82,
   "metadata": {},
   "outputs": [
    {
     "name": "stdout",
     "output_type": "stream",
     "text": [
      "INFO:tensorflow:Calling model_fn.\n",
      "WARNING:tensorflow:Trapezoidal rule is known to produce incorrect PR-AUCs; please switch to \"careful_interpolation\" instead.\n",
      "WARNING:tensorflow:Trapezoidal rule is known to produce incorrect PR-AUCs; please switch to \"careful_interpolation\" instead.\n",
      "INFO:tensorflow:Done calling model_fn.\n",
      "INFO:tensorflow:Starting evaluation at 2022-09-07T17:05:32Z\n",
      "INFO:tensorflow:Graph was finalized.\n",
      "INFO:tensorflow:Restoring parameters from ../modelV0907/model.ckpt-100\n",
      "INFO:tensorflow:Running local_init_op.\n",
      "INFO:tensorflow:Done running local_init_op.\n",
      "INFO:tensorflow:Evaluation [1/1]\n",
      "INFO:tensorflow:Finished evaluation at 2022-09-07-17:05:36\n",
      "INFO:tensorflow:Saving dict for global step 100: accuracy = 0.68763244, accuracy_baseline = 0.570657, auc = 0.74869776, auc_precision_recall = 0.693613, average_loss = 0.5868112, global_step = 100, label/mean = 0.429343, loss = 8583.287, precision = 0.69863015, prediction/mean = 0.40653765, recall = 0.47914013\n",
      "INFO:tensorflow:Saving 'checkpoint_path' summary for global step 100: ../modelV0907/model.ckpt-100\n"
     ]
    }
   ],
   "source": [
    "results = m.evaluate(input_fn=lambda: input_fn(sample_test_pickle), steps=1, checkpoint_path = '../modelV0907/model.ckpt-100')"
   ]
  },
  {
   "cell_type": "code",
   "execution_count": 79,
   "metadata": {},
   "outputs": [
    {
     "name": "stdout",
     "output_type": "stream",
     "text": [
      "INFO:tensorflow:Calling model_fn.\n",
      "WARNING:tensorflow:Trapezoidal rule is known to produce incorrect PR-AUCs; please switch to \"careful_interpolation\" instead.\n",
      "WARNING:tensorflow:Trapezoidal rule is known to produce incorrect PR-AUCs; please switch to \"careful_interpolation\" instead.\n",
      "INFO:tensorflow:Done calling model_fn.\n",
      "INFO:tensorflow:Starting evaluation at 2022-09-07T16:58:57Z\n",
      "INFO:tensorflow:Graph was finalized.\n",
      "INFO:tensorflow:Restoring parameters from ../modelV0907/model.ckpt-500\n",
      "INFO:tensorflow:Running local_init_op.\n",
      "INFO:tensorflow:Done running local_init_op.\n",
      "INFO:tensorflow:Evaluation [1/1]\n",
      "INFO:tensorflow:Finished evaluation at 2022-09-07-16:59:01\n",
      "INFO:tensorflow:Saving dict for global step 500: accuracy = 0.7284474, accuracy_baseline = 0.570657, auc = 0.79575986, auc_precision_recall = 0.7471512, average_loss = 0.5395019, global_step = 500, label/mean = 0.429343, loss = 7891.2944, precision = 0.7212423, prediction/mean = 0.4145149, recall = 0.59904456\n",
      "INFO:tensorflow:Saving 'checkpoint_path' summary for global step 500: ../modelV0907/model.ckpt-500\n"
     ]
    }
   ],
   "source": [
    "results = m.evaluate(input_fn=lambda: input_fn(sample_test_pickle), steps=1, checkpoint_path = '../modelV0907/model.ckpt-500')"
   ]
  },
  {
   "cell_type": "code",
   "execution_count": 80,
   "metadata": {},
   "outputs": [
    {
     "name": "stdout",
     "output_type": "stream",
     "text": [
      "INFO:tensorflow:Calling model_fn.\n",
      "WARNING:tensorflow:Trapezoidal rule is known to produce incorrect PR-AUCs; please switch to \"careful_interpolation\" instead.\n",
      "WARNING:tensorflow:Trapezoidal rule is known to produce incorrect PR-AUCs; please switch to \"careful_interpolation\" instead.\n",
      "INFO:tensorflow:Done calling model_fn.\n",
      "INFO:tensorflow:Starting evaluation at 2022-09-07T16:59:29Z\n",
      "INFO:tensorflow:Graph was finalized.\n",
      "INFO:tensorflow:Restoring parameters from ../modelV0907/model.ckpt-1000\n",
      "INFO:tensorflow:Running local_init_op.\n",
      "INFO:tensorflow:Done running local_init_op.\n",
      "INFO:tensorflow:Evaluation [1/1]\n",
      "INFO:tensorflow:Finished evaluation at 2022-09-07-16:59:33\n",
      "INFO:tensorflow:Saving dict for global step 1000: accuracy = 0.7446503, accuracy_baseline = 0.570657, auc = 0.8170671, auc_precision_recall = 0.773738, average_loss = 0.5155848, global_step = 1000, label/mean = 0.429343, loss = 7541.4595, precision = 0.73174286, prediction/mean = 0.41370174, recall = 0.6398089\n",
      "INFO:tensorflow:Saving 'checkpoint_path' summary for global step 1000: ../modelV0907/model.ckpt-1000\n"
     ]
    }
   ],
   "source": [
    "results = m.evaluate(input_fn=lambda: input_fn(sample_test_pickle), steps=1, checkpoint_path = '../modelV0907/model.ckpt-1000')"
   ]
  },
  {
   "cell_type": "code",
   "execution_count": 81,
   "metadata": {},
   "outputs": [
    {
     "data": {
      "text/plain": [
       "{'accuracy': 0.7446503,\n",
       " 'accuracy_baseline': 0.570657,\n",
       " 'auc': 0.8170671,\n",
       " 'auc_precision_recall': 0.773738,\n",
       " 'average_loss': 0.5155848,\n",
       " 'label/mean': 0.429343,\n",
       " 'loss': 7541.4595,\n",
       " 'precision': 0.73174286,\n",
       " 'prediction/mean': 0.41370174,\n",
       " 'recall': 0.6398089,\n",
       " 'global_step': 1000}"
      ]
     },
     "execution_count": 81,
     "metadata": {},
     "output_type": "execute_result"
    }
   ],
   "source": [
    "results"
   ]
  },
  {
   "cell_type": "code",
   "execution_count": 83,
   "metadata": {},
   "outputs": [],
   "source": [
    "p = m.predict(input_fn=lambda: input_fn(sample_test_pickle))"
   ]
  },
  {
   "cell_type": "code",
   "execution_count": 84,
   "metadata": {},
   "outputs": [
    {
     "name": "stdout",
     "output_type": "stream",
     "text": [
      "WARNING:tensorflow:Input graph does not use tf.data.Dataset or contain a QueueRunner. That means predict yields forever. This is probably a mistake.\n",
      "INFO:tensorflow:Calling model_fn.\n",
      "INFO:tensorflow:Done calling model_fn.\n",
      "INFO:tensorflow:Graph was finalized.\n",
      "INFO:tensorflow:Restoring parameters from ../modelV0907/model.ckpt-1000\n",
      "INFO:tensorflow:Running local_init_op.\n",
      "INFO:tensorflow:Done running local_init_op.\n"
     ]
    }
   ],
   "source": [
    "count = 0\n",
    "pred = []\n",
    "for i in p:\n",
    "    if count == len(sample_test_pickle):\n",
    "        break\n",
    "    # i是一个字典\n",
    "    pred.append(i['probabilities'])\n",
    "    count += 1"
   ]
  },
  {
   "cell_type": "code",
   "execution_count": 98,
   "metadata": {},
   "outputs": [
    {
     "data": {
      "text/html": [
       "<div>\n",
       "<style scoped>\n",
       "    .dataframe tbody tr th:only-of-type {\n",
       "        vertical-align: middle;\n",
       "    }\n",
       "\n",
       "    .dataframe tbody tr th {\n",
       "        vertical-align: top;\n",
       "    }\n",
       "\n",
       "    .dataframe thead th {\n",
       "        text-align: right;\n",
       "    }\n",
       "</style>\n",
       "<table border=\"1\" class=\"dataframe\">\n",
       "  <thead>\n",
       "    <tr style=\"text-align: right;\">\n",
       "      <th></th>\n",
       "      <th>0</th>\n",
       "      <th>1</th>\n",
       "    </tr>\n",
       "  </thead>\n",
       "  <tbody>\n",
       "    <tr>\n",
       "      <th>0</th>\n",
       "      <td>0.877076</td>\n",
       "      <td>0.122924</td>\n",
       "    </tr>\n",
       "    <tr>\n",
       "      <th>1</th>\n",
       "      <td>0.982511</td>\n",
       "      <td>0.017489</td>\n",
       "    </tr>\n",
       "    <tr>\n",
       "      <th>2</th>\n",
       "      <td>0.200850</td>\n",
       "      <td>0.799150</td>\n",
       "    </tr>\n",
       "    <tr>\n",
       "      <th>3</th>\n",
       "      <td>0.928102</td>\n",
       "      <td>0.071898</td>\n",
       "    </tr>\n",
       "    <tr>\n",
       "      <th>4</th>\n",
       "      <td>0.910424</td>\n",
       "      <td>0.089576</td>\n",
       "    </tr>\n",
       "    <tr>\n",
       "      <th>...</th>\n",
       "      <td>...</td>\n",
       "      <td>...</td>\n",
       "    </tr>\n",
       "    <tr>\n",
       "      <th>14622</th>\n",
       "      <td>0.182305</td>\n",
       "      <td>0.817695</td>\n",
       "    </tr>\n",
       "    <tr>\n",
       "      <th>14623</th>\n",
       "      <td>0.238755</td>\n",
       "      <td>0.761245</td>\n",
       "    </tr>\n",
       "    <tr>\n",
       "      <th>14624</th>\n",
       "      <td>0.303029</td>\n",
       "      <td>0.696971</td>\n",
       "    </tr>\n",
       "    <tr>\n",
       "      <th>14625</th>\n",
       "      <td>0.060288</td>\n",
       "      <td>0.939712</td>\n",
       "    </tr>\n",
       "    <tr>\n",
       "      <th>14626</th>\n",
       "      <td>0.112759</td>\n",
       "      <td>0.887241</td>\n",
       "    </tr>\n",
       "  </tbody>\n",
       "</table>\n",
       "<p>14627 rows × 2 columns</p>\n",
       "</div>"
      ],
      "text/plain": [
       "              0         1\n",
       "0      0.877076  0.122924\n",
       "1      0.982511  0.017489\n",
       "2      0.200850  0.799150\n",
       "3      0.928102  0.071898\n",
       "4      0.910424  0.089576\n",
       "...         ...       ...\n",
       "14622  0.182305  0.817695\n",
       "14623  0.238755  0.761245\n",
       "14624  0.303029  0.696971\n",
       "14625  0.060288  0.939712\n",
       "14626  0.112759  0.887241\n",
       "\n",
       "[14627 rows x 2 columns]"
      ]
     },
     "execution_count": 98,
     "metadata": {},
     "output_type": "execute_result"
    }
   ],
   "source": [
    "pred_label = pd.DataFrame(pred)\n",
    "pred_label"
   ]
  },
  {
   "cell_type": "code",
   "execution_count": 99,
   "metadata": {},
   "outputs": [
    {
     "data": {
      "text/html": [
       "<div>\n",
       "<style scoped>\n",
       "    .dataframe tbody tr th:only-of-type {\n",
       "        vertical-align: middle;\n",
       "    }\n",
       "\n",
       "    .dataframe tbody tr th {\n",
       "        vertical-align: top;\n",
       "    }\n",
       "\n",
       "    .dataframe thead th {\n",
       "        text-align: right;\n",
       "    }\n",
       "</style>\n",
       "<table border=\"1\" class=\"dataframe\">\n",
       "  <thead>\n",
       "    <tr style=\"text-align: right;\">\n",
       "      <th></th>\n",
       "      <th>model_label</th>\n",
       "    </tr>\n",
       "  </thead>\n",
       "  <tbody>\n",
       "    <tr>\n",
       "      <th>0</th>\n",
       "      <td>0</td>\n",
       "    </tr>\n",
       "    <tr>\n",
       "      <th>1</th>\n",
       "      <td>0</td>\n",
       "    </tr>\n",
       "    <tr>\n",
       "      <th>2</th>\n",
       "      <td>0</td>\n",
       "    </tr>\n",
       "    <tr>\n",
       "      <th>3</th>\n",
       "      <td>0</td>\n",
       "    </tr>\n",
       "    <tr>\n",
       "      <th>4</th>\n",
       "      <td>0</td>\n",
       "    </tr>\n",
       "    <tr>\n",
       "      <th>...</th>\n",
       "      <td>...</td>\n",
       "    </tr>\n",
       "    <tr>\n",
       "      <th>14622</th>\n",
       "      <td>1</td>\n",
       "    </tr>\n",
       "    <tr>\n",
       "      <th>14623</th>\n",
       "      <td>1</td>\n",
       "    </tr>\n",
       "    <tr>\n",
       "      <th>14624</th>\n",
       "      <td>1</td>\n",
       "    </tr>\n",
       "    <tr>\n",
       "      <th>14625</th>\n",
       "      <td>1</td>\n",
       "    </tr>\n",
       "    <tr>\n",
       "      <th>14626</th>\n",
       "      <td>1</td>\n",
       "    </tr>\n",
       "  </tbody>\n",
       "</table>\n",
       "<p>14627 rows × 1 columns</p>\n",
       "</div>"
      ],
      "text/plain": [
       "       model_label\n",
       "0                0\n",
       "1                0\n",
       "2                0\n",
       "3                0\n",
       "4                0\n",
       "...            ...\n",
       "14622            1\n",
       "14623            1\n",
       "14624            1\n",
       "14625            1\n",
       "14626            1\n",
       "\n",
       "[14627 rows x 1 columns]"
      ]
     },
     "execution_count": 99,
     "metadata": {},
     "output_type": "execute_result"
    }
   ],
   "source": [
    "real_label = sample_test_pickle[['model_label']]\n",
    "real_label"
   ]
  },
  {
   "cell_type": "code",
   "execution_count": 101,
   "metadata": {},
   "outputs": [
    {
     "name": "stdout",
     "output_type": "stream",
     "text": [
      "0.8171\n"
     ]
    },
    {
     "data": {
      "image/png": "[encoded data removed]",
      "text/plain": [
       "<Figure size 432x288 with 1 Axes>"
      ]
     },
     "metadata": {
      "needs_background": "light"
     },
     "output_type": "display_data"
    }
   ],
   "source": [
    "import numpy as np\n",
    "from sklearn import metrics\n",
    "from matplotlib import pyplot as plot\n",
    "from sklearn.metrics import auc\n",
    "\n",
    "y = np.array(real_label['model_label'])\n",
    "scores = np.array(pred_label[1])\n",
    "\n",
    "fpr, tpr, thresholds = metrics.roc_curve(y, scores)\n",
    "AUC = round(auc(fpr, tpr), 4)\n",
    "print(AUC)\n",
    "plot.figure(\"ROC Curve\")\n",
    "plot.title(\"ROC Curve\")\n",
    "plot.xlabel = ('FPR')\n",
    "plot.ylabel = ('TPR')\n",
    "plot.plot(fpr, tpr, label='ROC')\n",
    "plot.show()\n"
   ]
  },
  {
   "cell_type": "code",
   "execution_count": null,
   "metadata": {},
   "outputs": [],
   "source": []
  }
 ],
 "metadata": {
  "kernelspec": {
   "display_name": "Python 3.6.13 ('tsinghua')",
   "language": "python",
   "name": "python3"
  },
  "language_info": {
   "codemirror_mode": {
    "name": "ipython",
    "version": 3
   },
   "file_extension": ".py",
   "mimetype": "text/x-python",
   "name": "python",
   "nbconvert_exporter": "python",
   "pygments_lexer": "ipython3",
   "version": "3.6.13"
  },
  "orig_nbformat": 4,
  "vscode": {
   "interpreter": {
    "hash": "0a7b5a4626d32b8252d3636695c99eb70559e5b3a83ef0cdb9ac852ddf775b11"
   }
  }
 },
 "nbformat": 4,
 "nbformat_minor": 2
}
