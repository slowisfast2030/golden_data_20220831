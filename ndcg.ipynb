{
 "cells": [
  {
   "cell_type": "code",
   "execution_count": null,
   "metadata": {},
   "outputs": [],
   "source": [
    "'''\n",
    "精准率和召回率这两个指标有时精准率低一些有时召回率低一些，有时可能都低。那么实际中用哪个指标比较好呢？这一般和应用场景有关，对于有些场景，我们更注重精准率，比如股票预测，假设预测的是一个二分类问题：股票会升还是降，显然为了利润我们关注的是升（即上升为类1），为什么这种情况下精准率指标更好呢？因为精准率是所有分类为1的预测中有多少是正确的，对本例也就是预测未来股票上升有多少是对的，这更复合我们的利润最大决策。而召回率是实际上升的股票中我们预测对了多少，基于风险投资理念，有很多股票会上升的时刻，我们就算落掉一些也是没有关系的，没有投资进去也就没有损失，更重要的是我们的决策中有多少能赚钱，所以在这种场景下，精准率更好。\n",
    "而如果在医疗领域，则是召回率更加重要，也就是要能在实际得病的人中尽量预测的更加准确，我们不想漏掉任何真正患病的人，这样才更有可能挽回一些人的生命，而精准率低些（没病的被预测为有病）并不会导致特别严重的后果，只是进行了一些过度医疗。\n",
    "'''"
   ]
  },
  {
   "cell_type": "code",
   "execution_count": null,
   "metadata": {},
   "outputs": [],
   "source": [
    "from sklearn import metrics\n",
    "import numpy as np\n",
    "import pandas as pd\n"
   ]
  },
  {
   "cell_type": "code",
   "execution_count": null,
   "metadata": {},
   "outputs": [],
   "source": [
    "# 符合wikipedia的计算\n",
    "# https://en.wikipedia.org/wiki/Discounted_cumulative_gain\n",
    "\n",
    "true_relevance = np.asarray([[3, 2, 3, 0, 1, 2, 3, 2]])\n",
    "scores = np.asarray([[0.9, 0.8, 0.7, 0.6, 0.5, 0.4, 0.3, 0.2]])\n",
    "metrics.ndcg_score(true_relevance, scores, k=6)"
   ]
  },
  {
   "cell_type": "code",
   "execution_count": null,
   "metadata": {},
   "outputs": [],
   "source": [
    "# 以jd_id聚类\n",
    "# 对于每一个jd_id，找到对应的cv_id列表，进而找到cv_id列表对应的real_label和pred_score\n",
    "# 将real_label和pred_score送入ndcg_score()"
   ]
  },
  {
   "cell_type": "code",
   "execution_count": null,
   "metadata": {},
   "outputs": [],
   "source": [
    "# 读取对测试集的预测。测试集的规模14627。\n",
    "model_label_pred_label = pd.read_pickle('../data_20220831/model_label_pred_label.pkl')\n",
    "\n",
    "model_label_pred_label"
   ]
  },
  {
   "cell_type": "code",
   "execution_count": null,
   "metadata": {},
   "outputs": [],
   "source": [
    "# 对列进行重命名\n",
    "model_label_pred_label = model_label_pred_label.rename(columns={'model_label': 'real_label', 0: 'prob_0', 1: 'prob_1'})\n",
    "model_label_pred_label"
   ]
  },
  {
   "cell_type": "code",
   "execution_count": null,
   "metadata": {},
   "outputs": [],
   "source": [
    "# 对全集计算ndcg，过于优秀\n",
    "true_relevance = np.asarray([model_label_pred_label['real_label']])\n",
    "scores = np.asarray([model_label_pred_label['prob_1']])\n",
    "metrics.ndcg_score(true_relevance, scores, k=2000)"
   ]
  },
  {
   "cell_type": "code",
   "execution_count": null,
   "metadata": {},
   "outputs": [],
   "source": [
    "model_label_pred_label.columns"
   ]
  },
  {
   "cell_type": "code",
   "execution_count": null,
   "metadata": {},
   "outputs": [],
   "source": [
    "model_label_pred_label.groupby('jd_id').count()\n"
   ]
  },
  {
   "cell_type": "code",
   "execution_count": null,
   "metadata": {},
   "outputs": [],
   "source": [
    "model_label_pred_label.groupby('jd_id').groups\n"
   ]
  },
  {
   "cell_type": "code",
   "execution_count": null,
   "metadata": {},
   "outputs": [],
   "source": [
    "model_label_pred_label[model_label_pred_label['jd_id']=='2c9207157b9b9199017ba610cfe10a9d']"
   ]
  },
  {
   "cell_type": "code",
   "execution_count": null,
   "metadata": {},
   "outputs": [],
   "source": [
    "model_label_pred_label.iloc[[7894, 12887, 13086]]"
   ]
  },
  {
   "cell_type": "code",
   "execution_count": null,
   "metadata": {},
   "outputs": [],
   "source": [
    "model_label_pred_label.iloc[[7894]]['prob_1'].__class__"
   ]
  },
  {
   "cell_type": "code",
   "execution_count": null,
   "metadata": {},
   "outputs": [],
   "source": [
    "# jd_id聚类的ndcg\n",
    "for k in range(1, 6):\n",
    "\n",
    "    ndcg_score_list = []\n",
    "    for jd_id, row_list in model_label_pred_label.groupby('jd_id').groups.items():\n",
    "        jd_cv_list_df = model_label_pred_label.iloc[row_list]\n",
    "\n",
    "        true_relevance = list(jd_cv_list_df['real_label'])\n",
    "        scores = list(jd_cv_list_df['prob_1'])\n",
    "        \n",
    "        # 注意这里的true_relevance和scores的长度若为1，会报错。故都补0，不影响计算。\n",
    "        true_relevance.append(0)\n",
    "        scores.append(0)\n",
    "\n",
    "        # list转array\n",
    "        true_relevance = np.asarray([true_relevance])\n",
    "        scores = np.asarray([scores])\n",
    "        \n",
    "        # 计算ndcg@k\n",
    "        ndcg_score = metrics.ndcg_score(true_relevance, scores, k=k)\n",
    "        ndcg_score_list.append(ndcg_score)\n",
    "\n",
    "    ndcg_score_list = np.array(ndcg_score_list)\n",
    "    print('ndcg@{}: {}'.format(k, ndcg_score_list.mean()))"
   ]
  },
  {
   "cell_type": "code",
   "execution_count": null,
   "metadata": {},
   "outputs": [],
   "source": [
    "a = np.asarray([1,2,3])\n",
    "a = np.append(a, 4)\n",
    "a"
   ]
  },
  {
   "cell_type": "code",
   "execution_count": null,
   "metadata": {},
   "outputs": [],
   "source": [
    "# cv_id聚类的ndcg\n",
    "for k in range(1, 6):\n",
    "\n",
    "    ndcg_score_list = []\n",
    "    for jd_id, row_list in model_label_pred_label.groupby('cv_id').groups.items():\n",
    "        jd_cv_list_df = model_label_pred_label.iloc[row_list]\n",
    "\n",
    "        true_relevance = list(jd_cv_list_df['real_label'])\n",
    "        scores = list(jd_cv_list_df['prob_1'])\n",
    "        \n",
    "        # 注意这里的true_relevance和scores的长度若为1，会报错。故都补0，不影响计算。\n",
    "        true_relevance.append(0)\n",
    "        scores.append(0)\n",
    "\n",
    "        # list转array\n",
    "        true_relevance = np.asarray([true_relevance])\n",
    "        scores = np.asarray([scores])\n",
    "        \n",
    "        # 计算ndcg@k\n",
    "        ndcg_score = metrics.ndcg_score(true_relevance, scores, k=k)\n",
    "        ndcg_score_list.append(ndcg_score)\n",
    "\n",
    "    ndcg_score_list = np.array(ndcg_score_list)\n",
    "    print('ndcg@{}: {}'.format(k, ndcg_score_list.mean()))"
   ]
  },
  {
   "cell_type": "code",
   "execution_count": null,
   "metadata": {},
   "outputs": [],
   "source": [
    "import seaborn as sns\n",
    "from sklearn.metrics import confusion_matrix\n",
    "import matplotlib.pyplot as plt\n",
    "\n",
    "sns.set()\n",
    "f,ax = plt.subplots()\n",
    "y_true = [0,0,1,2,1,2,0,2,2,0,1,1]\n",
    "y_pred = [1,0,1,2,1,0,0,2,2,0,1,1]\n",
    "C2 = confusion_matrix(y_true,y_pred,labels=[0,1,2])\n",
    "#打印 C2\n",
    "print(C2)\n",
    "sns.heatmap(C2,annot=True,ax=ax) #画热力图\n",
    "\n",
    "#ax.set_titile('confusion matrix') #标题\n",
    "ax.set_xlabel('predict') #x 轴\n",
    "ax.set_ylabel('true') #y 轴"
   ]
  },
  {
   "cell_type": "code",
   "execution_count": null,
   "metadata": {},
   "outputs": [],
   "source": [
    "import seaborn as sns\n",
    "from sklearn.metrics import confusion_matrix\n",
    "import matplotlib.pyplot as plt\n",
    "\n",
    "sns.set()\n",
    "f,ax = plt.subplots()\n",
    "\n",
    "y_true = np.asarray(model_label_pred_label['real_label'])\n",
    "y_pred = np.asarray(model_label_pred_label['pred_label'])\n",
    "\n",
    "C2 = confusion_matrix(y_true,y_pred)\n",
    "print(C2)\n",
    "\n",
    "# 画热力图\n",
    "sns.heatmap(C2,annot=True,ax=ax) \n",
    "ax.set_title('confusion matrix') \n",
    "ax.set_xlabel('predict') \n",
    "ax.set_ylabel('true') "
   ]
  },
  {
   "cell_type": "code",
   "execution_count": null,
   "metadata": {},
   "outputs": [],
   "source": [
    "6874/8347"
   ]
  },
  {
   "cell_type": "code",
   "execution_count": null,
   "metadata": {},
   "outputs": [],
   "source": [
    "from sklearn.metrics import classification_report\n",
    " \n",
    "print(classification_report(y_true, y_pred))"
   ]
  },
  {
   "cell_type": "code",
   "execution_count": null,
   "metadata": {},
   "outputs": [],
   "source": [
    "plt.matshow(C2, cmap=plt.cm.gray)"
   ]
  },
  {
   "cell_type": "code",
   "execution_count": null,
   "metadata": {},
   "outputs": [],
   "source": []
  },
  {
   "cell_type": "code",
   "execution_count": null,
   "metadata": {},
   "outputs": [],
   "source": []
  }
 ],
 "metadata": {
  "kernelspec": {
   "display_name": "Python 3 (ipykernel)",
   "language": "python",
   "name": "python3"
  },
  "language_info": {
   "codemirror_mode": {
    "name": "ipython",
    "version": 3
   },
   "file_extension": ".py",
   "mimetype": "text/x-python",
   "name": "python",
   "nbconvert_exporter": "python",
   "pygments_lexer": "ipython3",
   "version": "3.9.12"
  },
  "vscode": {
   "interpreter": {
    "hash": "f63f3fa61251d3530929b90a6fd0ac6d4fd28461cb09a64c4fa1d09fc6d068be"
   }
  }
 },
 "nbformat": 4,
 "nbformat_minor": 2
}
