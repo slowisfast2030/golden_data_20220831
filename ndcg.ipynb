{
 "cells": [
  {
   "cell_type": "code",
   "execution_count": null,
   "metadata": {},
   "outputs": [],
   "source": [
    "'''\n",
    "精准率和召回率这两个指标有时精准率低一些有时召回率低一些，有时可能都低。那么实际中用哪个指标比较好呢？这一般和应用场景有关，对于有些场景，我们更注重精准率，比如股票预测，假设预测的是一个二分类问题：股票会升还是降，显然为了利润我们关注的是升（即上升为类1），为什么这种情况下精准率指标更好呢？因为精准率是所有分类为1的预测中有多少是正确的，对本例也就是预测未来股票上升有多少是对的，这更复合我们的利润最大决策。而召回率是实际上升的股票中我们预测对了多少，基于风险投资理念，有很多股票会上升的时刻，我们就算落掉一些也是没有关系的，没有投资进去也就没有损失，更重要的是我们的决策中有多少能赚钱，所以在这种场景下，精准率更好。\n",
    "而如果在医疗领域，则是召回率更加重要，也就是要能在实际得病的人中尽量预测的更加准确，我们不想漏掉任何真正患病的人，这样才更有可能挽回一些人的生命，而精准率低些（没病的被预测为有病）并不会导致特别严重的后果，只是进行了一些过度医疗。\n",
    "'''"
   ]
  },
  {
   "cell_type": "code",
   "execution_count": 9,
   "metadata": {},
   "outputs": [],
   "source": [
    "from sklearn import metrics\n",
    "import numpy as np\n",
    "import pandas as pd\n"
   ]
  },
  {
   "cell_type": "code",
   "execution_count": 100,
   "metadata": {},
   "outputs": [
    {
     "data": {
      "text/plain": [
       "0.7850023719699477"
      ]
     },
     "execution_count": 100,
     "metadata": {},
     "output_type": "execute_result"
    }
   ],
   "source": [
    "# 符合wikipedia的计算\n",
    "# https://en.wikipedia.org/wiki/Discounted_cumulative_gain\n",
    "\n",
    "true_relevance = np.asarray([[3, 2, 3, 0, 1, 2, 3, 2]])\n",
    "scores = np.asarray([[0.9, 0.8, 0.7, 0.6, 0.5, 0.4, 0.3, 0.2]])\n",
    "metrics.ndcg_score(true_relevance, scores, k=6)"
   ]
  },
  {
   "cell_type": "code",
   "execution_count": 8,
   "metadata": {},
   "outputs": [],
   "source": [
    "# 以jd_id聚类\n",
    "# 对于每一个jd_id，找到对应的cv_id列表，进而找到cv_id列表对应的real_label和pred_score\n",
    "# 将real_label和pred_score送入ndcg_score()"
   ]
  },
  {
   "cell_type": "code",
   "execution_count": 10,
   "metadata": {},
   "outputs": [
    {
     "data": {
      "text/html": [
       "<div>\n",
       "<style scoped>\n",
       "    .dataframe tbody tr th:only-of-type {\n",
       "        vertical-align: middle;\n",
       "    }\n",
       "\n",
       "    .dataframe tbody tr th {\n",
       "        vertical-align: top;\n",
       "    }\n",
       "\n",
       "    .dataframe thead th {\n",
       "        text-align: right;\n",
       "    }\n",
       "</style>\n",
       "<table border=\"1\" class=\"dataframe\">\n",
       "  <thead>\n",
       "    <tr style=\"text-align: right;\">\n",
       "      <th></th>\n",
       "      <th>cv_id</th>\n",
       "      <th>jd_id</th>\n",
       "      <th>model_label</th>\n",
       "      <th>pred_label</th>\n",
       "      <th>0</th>\n",
       "      <th>1</th>\n",
       "    </tr>\n",
       "  </thead>\n",
       "  <tbody>\n",
       "    <tr>\n",
       "      <th>0</th>\n",
       "      <td>2c9207157ef7ed7f017efd02e21e4e49</td>\n",
       "      <td>2c9207157d2f0ec5017d5a7504c72f8b</td>\n",
       "      <td>0</td>\n",
       "      <td>0</td>\n",
       "      <td>0.877076</td>\n",
       "      <td>0.122924</td>\n",
       "    </tr>\n",
       "    <tr>\n",
       "      <th>1</th>\n",
       "      <td>2c920715802399a801804bdec5c34543</td>\n",
       "      <td>2c920715800e886301801791ef1b53ee</td>\n",
       "      <td>0</td>\n",
       "      <td>0</td>\n",
       "      <td>0.982511</td>\n",
       "      <td>0.017489</td>\n",
       "    </tr>\n",
       "    <tr>\n",
       "      <th>2</th>\n",
       "      <td>2c92071581c8d04f0181cb3aa9f4639c</td>\n",
       "      <td>2c92071581c8c61e0181cc4416582615</td>\n",
       "      <td>0</td>\n",
       "      <td>1</td>\n",
       "      <td>0.200850</td>\n",
       "      <td>0.799150</td>\n",
       "    </tr>\n",
       "    <tr>\n",
       "      <th>3</th>\n",
       "      <td>2c920715802399a801804ba70b163677</td>\n",
       "      <td>2c920715800e886301801791ef1b53ee</td>\n",
       "      <td>0</td>\n",
       "      <td>0</td>\n",
       "      <td>0.928102</td>\n",
       "      <td>0.071898</td>\n",
       "    </tr>\n",
       "    <tr>\n",
       "      <th>4</th>\n",
       "      <td>2c92071580b3a89c0180d1cdb36c3c4b</td>\n",
       "      <td>2c920715816798cb01817f99f0341751</td>\n",
       "      <td>0</td>\n",
       "      <td>0</td>\n",
       "      <td>0.910424</td>\n",
       "      <td>0.089576</td>\n",
       "    </tr>\n",
       "    <tr>\n",
       "      <th>...</th>\n",
       "      <td>...</td>\n",
       "      <td>...</td>\n",
       "      <td>...</td>\n",
       "      <td>...</td>\n",
       "      <td>...</td>\n",
       "      <td>...</td>\n",
       "    </tr>\n",
       "    <tr>\n",
       "      <th>14622</th>\n",
       "      <td>2c92071581d380c20181ede1f6b4401f</td>\n",
       "      <td>2c92071581d380a00181dccc2ac54686</td>\n",
       "      <td>1</td>\n",
       "      <td>1</td>\n",
       "      <td>0.182305</td>\n",
       "      <td>0.817695</td>\n",
       "    </tr>\n",
       "    <tr>\n",
       "      <th>14623</th>\n",
       "      <td>2c9207157dec317f017e0e75e24d4ab8</td>\n",
       "      <td>2c9207157dec2c34017e05671af21551</td>\n",
       "      <td>1</td>\n",
       "      <td>1</td>\n",
       "      <td>0.238755</td>\n",
       "      <td>0.761245</td>\n",
       "    </tr>\n",
       "    <tr>\n",
       "      <th>14624</th>\n",
       "      <td>2c92071581d380c20181d7a76b390856</td>\n",
       "      <td>2c92071581cdd33b0181d224cbdf7b06</td>\n",
       "      <td>1</td>\n",
       "      <td>1</td>\n",
       "      <td>0.303029</td>\n",
       "      <td>0.696971</td>\n",
       "    </tr>\n",
       "    <tr>\n",
       "      <th>14625</th>\n",
       "      <td>2c920715816798dd01816b5b135e64b2</td>\n",
       "      <td>2c9207158114fb29018148007d475ade</td>\n",
       "      <td>1</td>\n",
       "      <td>1</td>\n",
       "      <td>0.060288</td>\n",
       "      <td>0.939712</td>\n",
       "    </tr>\n",
       "    <tr>\n",
       "      <th>14626</th>\n",
       "      <td>2c92071580f6d9840180f8d5ca77274a</td>\n",
       "      <td>2c92071580f6d9350180f8da1f1c57ef</td>\n",
       "      <td>1</td>\n",
       "      <td>1</td>\n",
       "      <td>0.112759</td>\n",
       "      <td>0.887241</td>\n",
       "    </tr>\n",
       "  </tbody>\n",
       "</table>\n",
       "<p>14627 rows × 6 columns</p>\n",
       "</div>"
      ],
      "text/plain": [
       "                                  cv_id                             jd_id  \\\n",
       "0      2c9207157ef7ed7f017efd02e21e4e49  2c9207157d2f0ec5017d5a7504c72f8b   \n",
       "1      2c920715802399a801804bdec5c34543  2c920715800e886301801791ef1b53ee   \n",
       "2      2c92071581c8d04f0181cb3aa9f4639c  2c92071581c8c61e0181cc4416582615   \n",
       "3      2c920715802399a801804ba70b163677  2c920715800e886301801791ef1b53ee   \n",
       "4      2c92071580b3a89c0180d1cdb36c3c4b  2c920715816798cb01817f99f0341751   \n",
       "...                                 ...                               ...   \n",
       "14622  2c92071581d380c20181ede1f6b4401f  2c92071581d380a00181dccc2ac54686   \n",
       "14623  2c9207157dec317f017e0e75e24d4ab8  2c9207157dec2c34017e05671af21551   \n",
       "14624  2c92071581d380c20181d7a76b390856  2c92071581cdd33b0181d224cbdf7b06   \n",
       "14625  2c920715816798dd01816b5b135e64b2  2c9207158114fb29018148007d475ade   \n",
       "14626  2c92071580f6d9840180f8d5ca77274a  2c92071580f6d9350180f8da1f1c57ef   \n",
       "\n",
       "       model_label  pred_label         0         1  \n",
       "0                0           0  0.877076  0.122924  \n",
       "1                0           0  0.982511  0.017489  \n",
       "2                0           1  0.200850  0.799150  \n",
       "3                0           0  0.928102  0.071898  \n",
       "4                0           0  0.910424  0.089576  \n",
       "...            ...         ...       ...       ...  \n",
       "14622            1           1  0.182305  0.817695  \n",
       "14623            1           1  0.238755  0.761245  \n",
       "14624            1           1  0.303029  0.696971  \n",
       "14625            1           1  0.060288  0.939712  \n",
       "14626            1           1  0.112759  0.887241  \n",
       "\n",
       "[14627 rows x 6 columns]"
      ]
     },
     "execution_count": 10,
     "metadata": {},
     "output_type": "execute_result"
    }
   ],
   "source": [
    "# 读取对测试集的预测。测试集的规模14627。\n",
    "model_label_pred_label = pd.read_pickle('../data_20220831/model_label_pred_label.pkl')\n",
    "\n",
    "model_label_pred_label"
   ]
  },
  {
   "cell_type": "code",
   "execution_count": 11,
   "metadata": {},
   "outputs": [
    {
     "data": {
      "text/html": [
       "<div>\n",
       "<style scoped>\n",
       "    .dataframe tbody tr th:only-of-type {\n",
       "        vertical-align: middle;\n",
       "    }\n",
       "\n",
       "    .dataframe tbody tr th {\n",
       "        vertical-align: top;\n",
       "    }\n",
       "\n",
       "    .dataframe thead th {\n",
       "        text-align: right;\n",
       "    }\n",
       "</style>\n",
       "<table border=\"1\" class=\"dataframe\">\n",
       "  <thead>\n",
       "    <tr style=\"text-align: right;\">\n",
       "      <th></th>\n",
       "      <th>cv_id</th>\n",
       "      <th>jd_id</th>\n",
       "      <th>real_label</th>\n",
       "      <th>pred_label</th>\n",
       "      <th>prob_0</th>\n",
       "      <th>prob_1</th>\n",
       "    </tr>\n",
       "  </thead>\n",
       "  <tbody>\n",
       "    <tr>\n",
       "      <th>0</th>\n",
       "      <td>2c9207157ef7ed7f017efd02e21e4e49</td>\n",
       "      <td>2c9207157d2f0ec5017d5a7504c72f8b</td>\n",
       "      <td>0</td>\n",
       "      <td>0</td>\n",
       "      <td>0.877076</td>\n",
       "      <td>0.122924</td>\n",
       "    </tr>\n",
       "    <tr>\n",
       "      <th>1</th>\n",
       "      <td>2c920715802399a801804bdec5c34543</td>\n",
       "      <td>2c920715800e886301801791ef1b53ee</td>\n",
       "      <td>0</td>\n",
       "      <td>0</td>\n",
       "      <td>0.982511</td>\n",
       "      <td>0.017489</td>\n",
       "    </tr>\n",
       "    <tr>\n",
       "      <th>2</th>\n",
       "      <td>2c92071581c8d04f0181cb3aa9f4639c</td>\n",
       "      <td>2c92071581c8c61e0181cc4416582615</td>\n",
       "      <td>0</td>\n",
       "      <td>1</td>\n",
       "      <td>0.200850</td>\n",
       "      <td>0.799150</td>\n",
       "    </tr>\n",
       "    <tr>\n",
       "      <th>3</th>\n",
       "      <td>2c920715802399a801804ba70b163677</td>\n",
       "      <td>2c920715800e886301801791ef1b53ee</td>\n",
       "      <td>0</td>\n",
       "      <td>0</td>\n",
       "      <td>0.928102</td>\n",
       "      <td>0.071898</td>\n",
       "    </tr>\n",
       "    <tr>\n",
       "      <th>4</th>\n",
       "      <td>2c92071580b3a89c0180d1cdb36c3c4b</td>\n",
       "      <td>2c920715816798cb01817f99f0341751</td>\n",
       "      <td>0</td>\n",
       "      <td>0</td>\n",
       "      <td>0.910424</td>\n",
       "      <td>0.089576</td>\n",
       "    </tr>\n",
       "    <tr>\n",
       "      <th>...</th>\n",
       "      <td>...</td>\n",
       "      <td>...</td>\n",
       "      <td>...</td>\n",
       "      <td>...</td>\n",
       "      <td>...</td>\n",
       "      <td>...</td>\n",
       "    </tr>\n",
       "    <tr>\n",
       "      <th>14622</th>\n",
       "      <td>2c92071581d380c20181ede1f6b4401f</td>\n",
       "      <td>2c92071581d380a00181dccc2ac54686</td>\n",
       "      <td>1</td>\n",
       "      <td>1</td>\n",
       "      <td>0.182305</td>\n",
       "      <td>0.817695</td>\n",
       "    </tr>\n",
       "    <tr>\n",
       "      <th>14623</th>\n",
       "      <td>2c9207157dec317f017e0e75e24d4ab8</td>\n",
       "      <td>2c9207157dec2c34017e05671af21551</td>\n",
       "      <td>1</td>\n",
       "      <td>1</td>\n",
       "      <td>0.238755</td>\n",
       "      <td>0.761245</td>\n",
       "    </tr>\n",
       "    <tr>\n",
       "      <th>14624</th>\n",
       "      <td>2c92071581d380c20181d7a76b390856</td>\n",
       "      <td>2c92071581cdd33b0181d224cbdf7b06</td>\n",
       "      <td>1</td>\n",
       "      <td>1</td>\n",
       "      <td>0.303029</td>\n",
       "      <td>0.696971</td>\n",
       "    </tr>\n",
       "    <tr>\n",
       "      <th>14625</th>\n",
       "      <td>2c920715816798dd01816b5b135e64b2</td>\n",
       "      <td>2c9207158114fb29018148007d475ade</td>\n",
       "      <td>1</td>\n",
       "      <td>1</td>\n",
       "      <td>0.060288</td>\n",
       "      <td>0.939712</td>\n",
       "    </tr>\n",
       "    <tr>\n",
       "      <th>14626</th>\n",
       "      <td>2c92071580f6d9840180f8d5ca77274a</td>\n",
       "      <td>2c92071580f6d9350180f8da1f1c57ef</td>\n",
       "      <td>1</td>\n",
       "      <td>1</td>\n",
       "      <td>0.112759</td>\n",
       "      <td>0.887241</td>\n",
       "    </tr>\n",
       "  </tbody>\n",
       "</table>\n",
       "<p>14627 rows × 6 columns</p>\n",
       "</div>"
      ],
      "text/plain": [
       "                                  cv_id                             jd_id  \\\n",
       "0      2c9207157ef7ed7f017efd02e21e4e49  2c9207157d2f0ec5017d5a7504c72f8b   \n",
       "1      2c920715802399a801804bdec5c34543  2c920715800e886301801791ef1b53ee   \n",
       "2      2c92071581c8d04f0181cb3aa9f4639c  2c92071581c8c61e0181cc4416582615   \n",
       "3      2c920715802399a801804ba70b163677  2c920715800e886301801791ef1b53ee   \n",
       "4      2c92071580b3a89c0180d1cdb36c3c4b  2c920715816798cb01817f99f0341751   \n",
       "...                                 ...                               ...   \n",
       "14622  2c92071581d380c20181ede1f6b4401f  2c92071581d380a00181dccc2ac54686   \n",
       "14623  2c9207157dec317f017e0e75e24d4ab8  2c9207157dec2c34017e05671af21551   \n",
       "14624  2c92071581d380c20181d7a76b390856  2c92071581cdd33b0181d224cbdf7b06   \n",
       "14625  2c920715816798dd01816b5b135e64b2  2c9207158114fb29018148007d475ade   \n",
       "14626  2c92071580f6d9840180f8d5ca77274a  2c92071580f6d9350180f8da1f1c57ef   \n",
       "\n",
       "       real_label  pred_label    prob_0    prob_1  \n",
       "0               0           0  0.877076  0.122924  \n",
       "1               0           0  0.982511  0.017489  \n",
       "2               0           1  0.200850  0.799150  \n",
       "3               0           0  0.928102  0.071898  \n",
       "4               0           0  0.910424  0.089576  \n",
       "...           ...         ...       ...       ...  \n",
       "14622           1           1  0.182305  0.817695  \n",
       "14623           1           1  0.238755  0.761245  \n",
       "14624           1           1  0.303029  0.696971  \n",
       "14625           1           1  0.060288  0.939712  \n",
       "14626           1           1  0.112759  0.887241  \n",
       "\n",
       "[14627 rows x 6 columns]"
      ]
     },
     "execution_count": 11,
     "metadata": {},
     "output_type": "execute_result"
    }
   ],
   "source": [
    "# 对列进行重命名\n",
    "model_label_pred_label = model_label_pred_label.rename(columns={'model_label': 'real_label', 0: 'prob_0', 1: 'prob_1'})\n",
    "model_label_pred_label"
   ]
  },
  {
   "cell_type": "code",
   "execution_count": 47,
   "metadata": {},
   "outputs": [
    {
     "data": {
      "text/plain": [
       "0.8911464487972667"
      ]
     },
     "execution_count": 47,
     "metadata": {},
     "output_type": "execute_result"
    }
   ],
   "source": [
    "# 对全集计算ndcg，过于优秀\n",
    "true_relevance = np.asarray([model_label_pred_label['real_label']])\n",
    "scores = np.asarray([model_label_pred_label['prob_1']])\n",
    "metrics.ndcg_score(true_relevance, scores, k=2000)"
   ]
  },
  {
   "cell_type": "code",
   "execution_count": 30,
   "metadata": {},
   "outputs": [
    {
     "data": {
      "text/plain": [
       "Index(['cv_id', 'jd_id', 'real_label', 'pred_label', 'prob_0', 'prob_1'], dtype='object')"
      ]
     },
     "execution_count": 30,
     "metadata": {},
     "output_type": "execute_result"
    }
   ],
   "source": [
    "model_label_pred_label.columns"
   ]
  },
  {
   "cell_type": "code",
   "execution_count": 35,
   "metadata": {},
   "outputs": [
    {
     "data": {
      "text/html": [
       "<div>\n",
       "<style scoped>\n",
       "    .dataframe tbody tr th:only-of-type {\n",
       "        vertical-align: middle;\n",
       "    }\n",
       "\n",
       "    .dataframe tbody tr th {\n",
       "        vertical-align: top;\n",
       "    }\n",
       "\n",
       "    .dataframe thead th {\n",
       "        text-align: right;\n",
       "    }\n",
       "</style>\n",
       "<table border=\"1\" class=\"dataframe\">\n",
       "  <thead>\n",
       "    <tr style=\"text-align: right;\">\n",
       "      <th></th>\n",
       "      <th>cv_id</th>\n",
       "      <th>real_label</th>\n",
       "      <th>pred_label</th>\n",
       "      <th>prob_0</th>\n",
       "      <th>prob_1</th>\n",
       "    </tr>\n",
       "    <tr>\n",
       "      <th>jd_id</th>\n",
       "      <th></th>\n",
       "      <th></th>\n",
       "      <th></th>\n",
       "      <th></th>\n",
       "      <th></th>\n",
       "    </tr>\n",
       "  </thead>\n",
       "  <tbody>\n",
       "    <tr>\n",
       "      <th>2c9207157b9b9199017b9fd89ee80624</th>\n",
       "      <td>1</td>\n",
       "      <td>1</td>\n",
       "      <td>1</td>\n",
       "      <td>1</td>\n",
       "      <td>1</td>\n",
       "    </tr>\n",
       "    <tr>\n",
       "      <th>2c9207157b9b9199017b9fdf555f06d4</th>\n",
       "      <td>1</td>\n",
       "      <td>1</td>\n",
       "      <td>1</td>\n",
       "      <td>1</td>\n",
       "      <td>1</td>\n",
       "    </tr>\n",
       "    <tr>\n",
       "      <th>2c9207157b9b9199017ba610cfe10a9d</th>\n",
       "      <td>3</td>\n",
       "      <td>3</td>\n",
       "      <td>3</td>\n",
       "      <td>3</td>\n",
       "      <td>3</td>\n",
       "    </tr>\n",
       "    <tr>\n",
       "      <th>2c9207157b9b9199017baa5de4fc0b8c</th>\n",
       "      <td>3</td>\n",
       "      <td>3</td>\n",
       "      <td>3</td>\n",
       "      <td>3</td>\n",
       "      <td>3</td>\n",
       "    </tr>\n",
       "    <tr>\n",
       "      <th>2c9207157b9b9199017bc337d65424df</th>\n",
       "      <td>6</td>\n",
       "      <td>6</td>\n",
       "      <td>6</td>\n",
       "      <td>6</td>\n",
       "      <td>6</td>\n",
       "    </tr>\n",
       "    <tr>\n",
       "      <th>...</th>\n",
       "      <td>...</td>\n",
       "      <td>...</td>\n",
       "      <td>...</td>\n",
       "      <td>...</td>\n",
       "      <td>...</td>\n",
       "    </tr>\n",
       "    <tr>\n",
       "      <th>8a69f6f8823a93b9018243e49fd75b1a</th>\n",
       "      <td>3</td>\n",
       "      <td>3</td>\n",
       "      <td>3</td>\n",
       "      <td>3</td>\n",
       "      <td>3</td>\n",
       "    </tr>\n",
       "    <tr>\n",
       "      <th>8a69f6f8823a93b90182445e1f121976</th>\n",
       "      <td>1</td>\n",
       "      <td>1</td>\n",
       "      <td>1</td>\n",
       "      <td>1</td>\n",
       "      <td>1</td>\n",
       "    </tr>\n",
       "    <tr>\n",
       "      <th>8a69f6f8823a93b901824462647a1dd4</th>\n",
       "      <td>1</td>\n",
       "      <td>1</td>\n",
       "      <td>1</td>\n",
       "      <td>1</td>\n",
       "      <td>1</td>\n",
       "    </tr>\n",
       "    <tr>\n",
       "      <th>8a69f6f8823a93b9018247c30aca4e3d</th>\n",
       "      <td>1</td>\n",
       "      <td>1</td>\n",
       "      <td>1</td>\n",
       "      <td>1</td>\n",
       "      <td>1</td>\n",
       "    </tr>\n",
       "    <tr>\n",
       "      <th>8a69f6f8823a93b90182499e8b460530</th>\n",
       "      <td>1</td>\n",
       "      <td>1</td>\n",
       "      <td>1</td>\n",
       "      <td>1</td>\n",
       "      <td>1</td>\n",
       "    </tr>\n",
       "  </tbody>\n",
       "</table>\n",
       "<p>5457 rows × 5 columns</p>\n",
       "</div>"
      ],
      "text/plain": [
       "                                  cv_id  real_label  pred_label  prob_0  \\\n",
       "jd_id                                                                     \n",
       "2c9207157b9b9199017b9fd89ee80624      1           1           1       1   \n",
       "2c9207157b9b9199017b9fdf555f06d4      1           1           1       1   \n",
       "2c9207157b9b9199017ba610cfe10a9d      3           3           3       3   \n",
       "2c9207157b9b9199017baa5de4fc0b8c      3           3           3       3   \n",
       "2c9207157b9b9199017bc337d65424df      6           6           6       6   \n",
       "...                                 ...         ...         ...     ...   \n",
       "8a69f6f8823a93b9018243e49fd75b1a      3           3           3       3   \n",
       "8a69f6f8823a93b90182445e1f121976      1           1           1       1   \n",
       "8a69f6f8823a93b901824462647a1dd4      1           1           1       1   \n",
       "8a69f6f8823a93b9018247c30aca4e3d      1           1           1       1   \n",
       "8a69f6f8823a93b90182499e8b460530      1           1           1       1   \n",
       "\n",
       "                                  prob_1  \n",
       "jd_id                                     \n",
       "2c9207157b9b9199017b9fd89ee80624       1  \n",
       "2c9207157b9b9199017b9fdf555f06d4       1  \n",
       "2c9207157b9b9199017ba610cfe10a9d       3  \n",
       "2c9207157b9b9199017baa5de4fc0b8c       3  \n",
       "2c9207157b9b9199017bc337d65424df       6  \n",
       "...                                  ...  \n",
       "8a69f6f8823a93b9018243e49fd75b1a       3  \n",
       "8a69f6f8823a93b90182445e1f121976       1  \n",
       "8a69f6f8823a93b901824462647a1dd4       1  \n",
       "8a69f6f8823a93b9018247c30aca4e3d       1  \n",
       "8a69f6f8823a93b90182499e8b460530       1  \n",
       "\n",
       "[5457 rows x 5 columns]"
      ]
     },
     "execution_count": 35,
     "metadata": {},
     "output_type": "execute_result"
    }
   ],
   "source": [
    "model_label_pred_label.groupby('jd_id').count()\n"
   ]
  },
  {
   "cell_type": "code",
   "execution_count": 31,
   "metadata": {},
   "outputs": [
    {
     "data": {
      "text/plain": [
       "{'2c9207157b9b9199017b9fd89ee80624': [7191], '2c9207157b9b9199017b9fdf555f06d4': [7228], '2c9207157b9b9199017ba610cfe10a9d': [7894, 12887, 13086], '2c9207157b9b9199017baa5de4fc0b8c': [4732, 6587, 9218], '2c9207157b9b9199017bc337d65424df': [6723, 13119, 13471, 13829, 14021, 14276], '2c9207157b9b9199017bc350e08c2634': [6768, 8603], '2c9207157b9b9199017bc3fdcb9d27aa': [13433], '2c9207157b9b9199017bc45350e42a45': [2614, 2696, 2913], '2c9207157b9b9199017bc8401bb32f0d': [5567], '2c9207157b9b9199017bc84e6dc83038': [9902, 10277, 11970], '2c9207157b9b9199017bc86153a5359e': [1614], '2c9207157b9b9199017bc86d900e3728': [13727], '2c9207157b9b9199017bc8899dda3970': [12996], '2c9207157b9b9199017bc88d81a239eb': [8641], '2c9207157b9b9199017bc96b0eed3d98': [14057], '2c9207157bcbb76b017bcde2b46d04cd': [13235], '2c9207157bcbb76b017bce3af5f10534': [13866], '2c9207157bcbb76b017bce57133f080d': [7952], '2c9207157bcbb76b017bce6d49340bdb': [3567], '2c9207157bcbb76b017bcebd24dd0fcc': [5433], '2c9207157bcbb76b017bcecb125d10a8': [2848, 3019], '2c9207157bcbb76b017bec2b5f181a44': [12064], '2c9207157bcbb76b017bec40b06e1aac': [8187], '2c9207157bcbb76b017bec721d621c3f': [8694], '2c9207157bcbb76b017bed35e5622129': [9942], '2c9207157bcbb76b017bed436c342294': [7002], '2c9207157bcbb76b017bf1e0582e2a07': [3100, 14253], '2c9207157bcbb76b017bf2a77a352bc3': [4488], '2c9207157bcbb76b017bf2e9c4a12cb1': [2558], '2c9207157bcbb76b017bf32511cc2f24': [10110], '2c9207157bcbb76b017bf68a28002fea': [6678, 14511], '2c9207157bcbb76b017bf7f2bbbb3153': [6346], '2c9207157bcbb76b017bf7fafe4f31cb': [3547, 14371], '2c9207157bf94d99017c0b7228970186': [12521], '2c9207157bf94d99017c109ad1e30712': [6250, 9025], '2c9207157bf94d99017c10b7900c0942': [493, 926], '2c9207157bf94d99017c10bb64dd0a5b': [4872], '2c9207157bf94d99017c10cb63660b8d': [13706, 14435], '2c9207157bf94d99017c114549530f47': [6887], '2c9207157bf94d99017c16ba18a916ca': [2653], '2c9207157bf94d99017c175724ec19ee': [900, 9266], '2c9207157bf94d99017c200757d91ab1': [5535, 12172], '2c9207157bf94d99017c20f908201bfe': [2876], '2c9207157bf94d99017c20ff44911c76': [11460, 13742], '2c9207157bf94d99017c26f285f31f5f': [13198, 13343, 13455, 13623], '2c9207157bf94d99017c2f89592320ea': [24, 2025], '2c9207157bf94d99017c2f8a005c212f': [458, 588, 919, 3056], '2c9207157bf94d99017c34c37c3a2807': [3321], '2c9207157bf94d99017c62f896582c91': [14289], '2c9207157bf94d99017c630f9c2e2d02': [4917], '2c9207157bf94d99017c645a0e3e2dc8': [7804, 8416], '2c9207157bf94d99017c6ec7fe07306d': [13308], '2c9207157bf94d99017c6ecb294930b1': [13469], '2c9207157bf94d99017c7320b667324b': [13947], '2c9207157bf94d99017c73324a593481': [14527], '2c9207157bf94d99017c735bc7473765': [11907], '2c9207157bf94d99017c7379bdd03a5c': [2106, 2108], '2c9207157bf94d99017c785dfcaa3ce9': [14263], '2c9207157bf94d99017c787f22503e3f': [14082, 14274], '2c9207157bf94d99017c788077523eb2': [1802], '2c9207157bf94d99017c78828c203f9d': [12110], '2c9207157bf94d99017c78b0c51a4230': [921, 1955, 2075, 2272, 3058], '2c9207157bf94d99017c78d4785142f4': [1613], '2c9207157bf94d99017c78f34c234585': [9908], '2c9207157bf94d99017c78f7c3b345fc': [4481], '2c9207157bf94d99017c7a2a8cfb4685': [12395], '2c9207157bf94d99017c7c828d824a2d': [13344], '2c9207157bf94d99017c7e5487ad4bb9': [156, 7553, 13515, 13923], '2c9207157bf94d99017c9c5a23ea5540': [392, 592, 1972], '2c9207157bf94d99017c9cd6930657be': [758, 1195, 2781], '2c9207157c9f1e4f017ca786fe761177': [13315], '2c9207157c9f1e4f017ca78a824c11d3': [14091], '2c9207157cc0e656017cc64a1a6d019a': [227, 2009, 2177, 3132, 10073], '2c9207157cc0e656017cca85ab670614': [9147], '2c9207157ccbcd86017cd991ae46016d': [14212], '2c9207157ccbcd86017cdb5ab2e80261': [10288], '2c9207157ccbcd86017cde369e5a02cc': [12001], '2c9207157ccbcd86017ce003a12a0482': [14041], '2c9207157ccbcd86017ce469e95606c5': [594, 2523, 2885], '2c9207157ccbcd86017ce47c44970920': [5910], '2c9207157ccbcd86017ce4aa50620c48': [10767], '2c9207157ccbcd86017ce4ace7840d08': [376, 1100], '2c9207157ccbcd86017ce4c7f5d10e31': [4009, 5328, 5331], '2c9207157ccbcd86017ce8f966620fb0': [14070], '2c9207157ccbcd86017cef53b7ba1e4b': [6364], '2c9207157ccbcd86017cf93601fd25b4': [3284], '2c9207157ccbcd86017cfd2cd4d8260e': [14557], '2c9207157ccbcd86017cfe63f93c290a': [5587], '2c9207157ccbcd86017d033831a52ae4': [1035], '2c9207157ccbcd86017d08622b3e37f7': [11301, 13734], '2c9207157ccbcd86017d0957628b4d46': [13949], '2c9207157ccbcd86017d0992389854fe': [10749], '2c9207157ccbcd86017d0cbc90045670': [9440], '2c9207157ccbcd86017d0cd70b0756d4': [13417], '2c9207157ccbcd86017d0e24c91459ae': [13337], '2c9207157ccbcd86017d0e33c5d65ac8': [1819], '2c9207157ccbcd86017d0e36aace5b4f': [510, 1105, 1107, 1238, 2132, 2316, 2939], '2c9207157ccbcd86017d12402ab0609c': [2989], '2c9207157d162406017d266eac0202d4': [9761], '2c9207157d162406017d274d6f6c0483': [11998], ...}"
      ]
     },
     "execution_count": 31,
     "metadata": {},
     "output_type": "execute_result"
    }
   ],
   "source": [
    "model_label_pred_label.groupby('jd_id').groups\n"
   ]
  },
  {
   "cell_type": "code",
   "execution_count": 32,
   "metadata": {},
   "outputs": [
    {
     "data": {
      "text/html": [
       "<div>\n",
       "<style scoped>\n",
       "    .dataframe tbody tr th:only-of-type {\n",
       "        vertical-align: middle;\n",
       "    }\n",
       "\n",
       "    .dataframe tbody tr th {\n",
       "        vertical-align: top;\n",
       "    }\n",
       "\n",
       "    .dataframe thead th {\n",
       "        text-align: right;\n",
       "    }\n",
       "</style>\n",
       "<table border=\"1\" class=\"dataframe\">\n",
       "  <thead>\n",
       "    <tr style=\"text-align: right;\">\n",
       "      <th></th>\n",
       "      <th>cv_id</th>\n",
       "      <th>jd_id</th>\n",
       "      <th>real_label</th>\n",
       "      <th>pred_label</th>\n",
       "      <th>prob_0</th>\n",
       "      <th>prob_1</th>\n",
       "    </tr>\n",
       "  </thead>\n",
       "  <tbody>\n",
       "    <tr>\n",
       "      <th>7894</th>\n",
       "      <td>2c9207157e34cf67017e486f22714a28</td>\n",
       "      <td>2c9207157b9b9199017ba610cfe10a9d</td>\n",
       "      <td>0</td>\n",
       "      <td>0</td>\n",
       "      <td>0.648235</td>\n",
       "      <td>0.351765</td>\n",
       "    </tr>\n",
       "    <tr>\n",
       "      <th>12887</th>\n",
       "      <td>2c9207157bf91042017c15bcc52e1526</td>\n",
       "      <td>2c9207157b9b9199017ba610cfe10a9d</td>\n",
       "      <td>1</td>\n",
       "      <td>1</td>\n",
       "      <td>0.464496</td>\n",
       "      <td>0.535504</td>\n",
       "    </tr>\n",
       "    <tr>\n",
       "      <th>13086</th>\n",
       "      <td>2c9207157bf91042017c120e5fb7133f</td>\n",
       "      <td>2c9207157b9b9199017ba610cfe10a9d</td>\n",
       "      <td>1</td>\n",
       "      <td>1</td>\n",
       "      <td>0.428300</td>\n",
       "      <td>0.571700</td>\n",
       "    </tr>\n",
       "  </tbody>\n",
       "</table>\n",
       "</div>"
      ],
      "text/plain": [
       "                                  cv_id                             jd_id  \\\n",
       "7894   2c9207157e34cf67017e486f22714a28  2c9207157b9b9199017ba610cfe10a9d   \n",
       "12887  2c9207157bf91042017c15bcc52e1526  2c9207157b9b9199017ba610cfe10a9d   \n",
       "13086  2c9207157bf91042017c120e5fb7133f  2c9207157b9b9199017ba610cfe10a9d   \n",
       "\n",
       "       real_label  pred_label    prob_0    prob_1  \n",
       "7894            0           0  0.648235  0.351765  \n",
       "12887           1           1  0.464496  0.535504  \n",
       "13086           1           1  0.428300  0.571700  "
      ]
     },
     "execution_count": 32,
     "metadata": {},
     "output_type": "execute_result"
    }
   ],
   "source": [
    "model_label_pred_label[model_label_pred_label['jd_id']=='2c9207157b9b9199017ba610cfe10a9d']"
   ]
  },
  {
   "cell_type": "code",
   "execution_count": 51,
   "metadata": {},
   "outputs": [
    {
     "data": {
      "text/html": [
       "<div>\n",
       "<style scoped>\n",
       "    .dataframe tbody tr th:only-of-type {\n",
       "        vertical-align: middle;\n",
       "    }\n",
       "\n",
       "    .dataframe tbody tr th {\n",
       "        vertical-align: top;\n",
       "    }\n",
       "\n",
       "    .dataframe thead th {\n",
       "        text-align: right;\n",
       "    }\n",
       "</style>\n",
       "<table border=\"1\" class=\"dataframe\">\n",
       "  <thead>\n",
       "    <tr style=\"text-align: right;\">\n",
       "      <th></th>\n",
       "      <th>cv_id</th>\n",
       "      <th>jd_id</th>\n",
       "      <th>real_label</th>\n",
       "      <th>pred_label</th>\n",
       "      <th>prob_0</th>\n",
       "      <th>prob_1</th>\n",
       "    </tr>\n",
       "  </thead>\n",
       "  <tbody>\n",
       "    <tr>\n",
       "      <th>7894</th>\n",
       "      <td>2c9207157e34cf67017e486f22714a28</td>\n",
       "      <td>2c9207157b9b9199017ba610cfe10a9d</td>\n",
       "      <td>0</td>\n",
       "      <td>0</td>\n",
       "      <td>0.648235</td>\n",
       "      <td>0.351765</td>\n",
       "    </tr>\n",
       "    <tr>\n",
       "      <th>12887</th>\n",
       "      <td>2c9207157bf91042017c15bcc52e1526</td>\n",
       "      <td>2c9207157b9b9199017ba610cfe10a9d</td>\n",
       "      <td>1</td>\n",
       "      <td>1</td>\n",
       "      <td>0.464496</td>\n",
       "      <td>0.535504</td>\n",
       "    </tr>\n",
       "    <tr>\n",
       "      <th>13086</th>\n",
       "      <td>2c9207157bf91042017c120e5fb7133f</td>\n",
       "      <td>2c9207157b9b9199017ba610cfe10a9d</td>\n",
       "      <td>1</td>\n",
       "      <td>1</td>\n",
       "      <td>0.428300</td>\n",
       "      <td>0.571700</td>\n",
       "    </tr>\n",
       "  </tbody>\n",
       "</table>\n",
       "</div>"
      ],
      "text/plain": [
       "                                  cv_id                             jd_id  \\\n",
       "7894   2c9207157e34cf67017e486f22714a28  2c9207157b9b9199017ba610cfe10a9d   \n",
       "12887  2c9207157bf91042017c15bcc52e1526  2c9207157b9b9199017ba610cfe10a9d   \n",
       "13086  2c9207157bf91042017c120e5fb7133f  2c9207157b9b9199017ba610cfe10a9d   \n",
       "\n",
       "       real_label  pred_label    prob_0    prob_1  \n",
       "7894            0           0  0.648235  0.351765  \n",
       "12887           1           1  0.464496  0.535504  \n",
       "13086           1           1  0.428300  0.571700  "
      ]
     },
     "execution_count": 51,
     "metadata": {},
     "output_type": "execute_result"
    }
   ],
   "source": [
    "model_label_pred_label.iloc[[7894, 12887, 13086]]"
   ]
  },
  {
   "cell_type": "code",
   "execution_count": 78,
   "metadata": {},
   "outputs": [
    {
     "data": {
      "text/plain": [
       "pandas.core.series.Series"
      ]
     },
     "execution_count": 78,
     "metadata": {},
     "output_type": "execute_result"
    }
   ],
   "source": [
    "model_label_pred_label.iloc[[7894]]['prob_1'].__class__"
   ]
  },
  {
   "cell_type": "code",
   "execution_count": 99,
   "metadata": {},
   "outputs": [
    {
     "name": "stdout",
     "output_type": "stream",
     "text": [
      "ndcg@1: 0.5101704233095107\n",
      "ndcg@2: 0.531845885187423\n",
      "ndcg@3: 0.5432721143884175\n",
      "ndcg@4: 0.55032149785977\n",
      "ndcg@5: 0.5543391180142774\n"
     ]
    }
   ],
   "source": [
    "# jd_id聚类的ndcg\n",
    "for k in range(1, 6):\n",
    "\n",
    "    ndcg_score_list = []\n",
    "    for jd_id, row_list in model_label_pred_label.groupby('jd_id').groups.items():\n",
    "        jd_cv_list_df = model_label_pred_label.iloc[row_list]\n",
    "\n",
    "        true_relevance = list(jd_cv_list_df['real_label'])\n",
    "        scores = list(jd_cv_list_df['prob_1'])\n",
    "        \n",
    "        # 注意这里的true_relevance和scores的长度若为1，会报错。故都补0，不影响计算。\n",
    "        true_relevance.append(0)\n",
    "        scores.append(0)\n",
    "\n",
    "        # list转array\n",
    "        true_relevance = np.asarray([true_relevance])\n",
    "        scores = np.asarray([scores])\n",
    "        \n",
    "        # 计算ndcg@k\n",
    "        ndcg_score = metrics.ndcg_score(true_relevance, scores, k=k)\n",
    "        ndcg_score_list.append(ndcg_score)\n",
    "\n",
    "    ndcg_score_list = np.array(ndcg_score_list)\n",
    "    print('ndcg@{}: {}'.format(k, ndcg_score_list.mean()))"
   ]
  },
  {
   "cell_type": "code",
   "execution_count": 66,
   "metadata": {},
   "outputs": [
    {
     "data": {
      "text/plain": [
       "array([1, 2, 3, 4])"
      ]
     },
     "execution_count": 66,
     "metadata": {},
     "output_type": "execute_result"
    }
   ],
   "source": [
    "a = np.asarray([1,2,3])\n",
    "a = np.append(a, 4)\n",
    "a"
   ]
  },
  {
   "cell_type": "code",
   "execution_count": 101,
   "metadata": {},
   "outputs": [
    {
     "name": "stdout",
     "output_type": "stream",
     "text": [
      "ndcg@1: 0.45896839102034687\n",
      "ndcg@2: 0.46263425692404375\n",
      "ndcg@3: 0.46272926110130846\n",
      "ndcg@4: 0.4627520494082826\n",
      "ndcg@5: 0.46276338806870965\n"
     ]
    }
   ],
   "source": [
    "# cv_id聚类的ndcg\n",
    "for k in range(1, 6):\n",
    "\n",
    "    ndcg_score_list = []\n",
    "    for jd_id, row_list in model_label_pred_label.groupby('cv_id').groups.items():\n",
    "        jd_cv_list_df = model_label_pred_label.iloc[row_list]\n",
    "\n",
    "        true_relevance = list(jd_cv_list_df['real_label'])\n",
    "        scores = list(jd_cv_list_df['prob_1'])\n",
    "        \n",
    "        # 注意这里的true_relevance和scores的长度若为1，会报错。故都补0，不影响计算。\n",
    "        true_relevance.append(0)\n",
    "        scores.append(0)\n",
    "\n",
    "        # list转array\n",
    "        true_relevance = np.asarray([true_relevance])\n",
    "        scores = np.asarray([scores])\n",
    "        \n",
    "        # 计算ndcg@k\n",
    "        ndcg_score = metrics.ndcg_score(true_relevance, scores, k=k)\n",
    "        ndcg_score_list.append(ndcg_score)\n",
    "\n",
    "    ndcg_score_list = np.array(ndcg_score_list)\n",
    "    print('ndcg@{}: {}'.format(k, ndcg_score_list.mean()))"
   ]
  },
  {
   "cell_type": "code",
   "execution_count": 104,
   "metadata": {},
   "outputs": [
    {
     "name": "stdout",
     "output_type": "stream",
     "text": [
      "[[3 1 0]\n",
      " [0 4 0]\n",
      " [1 0 3]]\n"
     ]
    },
    {
     "data": {
      "text/plain": [
       "Text(30.5, 0.5, 'true')"
      ]
     },
     "execution_count": 104,
     "metadata": {},
     "output_type": "execute_result"
    },
    {
     "data": {
      "image/png": "[encoded data removed]",
      "text/plain": [
       "<Figure size 432x288 with 2 Axes>"
      ]
     },
     "metadata": {},
     "output_type": "display_data"
    }
   ],
   "source": [
    "import seaborn as sns\n",
    "from sklearn.metrics import confusion_matrix\n",
    "import matplotlib.pyplot as plt\n",
    "\n",
    "sns.set()\n",
    "f,ax = plt.subplots()\n",
    "y_true = [0,0,1,2,1,2,0,2,2,0,1,1]\n",
    "y_pred = [1,0,1,2,1,0,0,2,2,0,1,1]\n",
    "C2 = confusion_matrix(y_true,y_pred,labels=[0,1,2])\n",
    "#打印 C2\n",
    "print(C2)\n",
    "sns.heatmap(C2,annot=True,ax=ax) #画热力图\n",
    "\n",
    "#ax.set_titile('confusion matrix') #标题\n",
    "ax.set_xlabel('predict') #x 轴\n",
    "ax.set_ylabel('true') #y 轴"
   ]
  },
  {
   "cell_type": "code",
   "execution_count": 112,
   "metadata": {},
   "outputs": [
    {
     "name": "stdout",
     "output_type": "stream",
     "text": [
      "[[6874 1473]\n",
      " [2262 4018]]\n"
     ]
    },
    {
     "data": {
      "text/plain": [
       "Text(30.5, 0.5, 'true')"
      ]
     },
     "execution_count": 112,
     "metadata": {},
     "output_type": "execute_result"
    },
    {
     "data": {
      "image/png": "[encoded data removed]",
      "text/plain": [
       "<Figure size 432x288 with 2 Axes>"
      ]
     },
     "metadata": {},
     "output_type": "display_data"
    }
   ],
   "source": [
    "import seaborn as sns\n",
    "from sklearn.metrics import confusion_matrix\n",
    "import matplotlib.pyplot as plt\n",
    "\n",
    "sns.set()\n",
    "f,ax = plt.subplots()\n",
    "\n",
    "y_true = np.asarray(model_label_pred_label['real_label'])\n",
    "y_pred = np.asarray(model_label_pred_label['pred_label'])\n",
    "\n",
    "C2 = confusion_matrix(y_true,y_pred)\n",
    "print(C2)\n",
    "\n",
    "# 画热力图\n",
    "sns.heatmap(C2,annot=True,ax=ax) \n",
    "ax.set_title('confusion matrix') \n",
    "ax.set_xlabel('predict') \n",
    "ax.set_ylabel('true') "
   ]
  },
  {
   "cell_type": "code",
   "execution_count": 106,
   "metadata": {},
   "outputs": [
    {
     "data": {
      "text/plain": [
       "<matplotlib.image.AxesImage at 0x7fb718185be0>"
      ]
     },
     "execution_count": 106,
     "metadata": {},
     "output_type": "execute_result"
    },
    {
     "data": {
      "image/png": "[encoded data removed]",
      "text/plain": [
       "<Figure size 288x288 with 1 Axes>"
      ]
     },
     "metadata": {},
     "output_type": "display_data"
    }
   ],
   "source": [
    "plt.matshow(C2, cmap=plt.cm.gray)"
   ]
  },
  {
   "cell_type": "code",
   "execution_count": null,
   "metadata": {},
   "outputs": [],
   "source": []
  },
  {
   "cell_type": "code",
   "execution_count": null,
   "metadata": {},
   "outputs": [],
   "source": []
  }
 ],
 "metadata": {
  "kernelspec": {
   "display_name": "Python 3 (ipykernel)",
   "language": "python",
   "name": "python3"
  },
  "language_info": {
   "codemirror_mode": {
    "name": "ipython",
    "version": 3
   },
   "file_extension": ".py",
   "mimetype": "text/x-python",
   "name": "python",
   "nbconvert_exporter": "python",
   "pygments_lexer": "ipython3",
   "version": "3.9.12"
  },
  "vscode": {
   "interpreter": {
    "hash": "f63f3fa61251d3530929b90a6fd0ac6d4fd28461cb09a64c4fa1d09fc6d068be"
   }
  }
 },
 "nbformat": 4,
 "nbformat_minor": 2
}
